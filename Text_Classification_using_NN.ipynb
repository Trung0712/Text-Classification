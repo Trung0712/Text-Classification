{
  "cells": [
    {
      "cell_type": "markdown",
      "metadata": {
        "id": "view-in-github",
        "colab_type": "text"
      },
      "source": [
        "<a href=\"https://colab.research.google.com/github/Trung0712/Text-Classification/blob/main/Text_Classification_using_NN.ipynb\" target=\"_parent\"><img src=\"https://colab.research.google.com/assets/colab-badge.svg\" alt=\"Open In Colab\"/></a>"
      ]
    },
    {
      "cell_type": "markdown",
      "source": [
        "#**Text Classification**"
      ],
      "metadata": {
        "id": "zNLm4l85rQN4"
      }
    },
    {
      "cell_type": "markdown",
      "metadata": {
        "id": "dbtPHUfVrkrB"
      },
      "source": [
        "##**1. Download Dataset from Github**"
      ]
    },
    {
      "cell_type": "code",
      "execution_count": 1,
      "metadata": {
        "id": "O0DiBQK5rkrD",
        "outputId": "4c9d8010-586e-4706-dfe5-0efadcd77dc5",
        "colab": {
          "base_uri": "https://localhost:8080/"
        }
      },
      "outputs": [
        {
          "output_type": "stream",
          "name": "stdout",
          "text": [
            "Cloning into 'ntc-scv'...\n",
            "remote: Enumerating objects: 39, done.\u001b[K\n",
            "remote: Counting objects: 100% (4/4), done.\u001b[K\n",
            "remote: Compressing objects: 100% (3/3), done.\u001b[K\n",
            "remote: Total 39 (delta 0), reused 4 (delta 0), pack-reused 35\u001b[K\n",
            "Receiving objects: 100% (39/39), 186.94 MiB | 12.69 MiB/s, done.\n",
            "Resolving deltas: 100% (9/9), done.\n",
            "Updating files: 100% (11/11), done.\n"
          ]
        }
      ],
      "source": [
        "!git clone https://github.com/congnghia0609/ntc-scv.git"
      ]
    },
    {
      "cell_type": "code",
      "execution_count": null,
      "metadata": {
        "id": "yU1hU_UvrkrE"
      },
      "outputs": [],
      "source": [
        "!unzip ./ntc-scv/data/data_test.zip -d ./data\n",
        "!unzip ./ntc-scv/data/data_train.zip -d ./data\n",
        "!rm -rf ./ntc-scv"
      ]
    },
    {
      "cell_type": "code",
      "execution_count": 5,
      "metadata": {
        "id": "Q0jHeUN7rkrE"
      },
      "outputs": [],
      "source": [
        "import os\n",
        "import pandas as pd\n",
        "\n",
        "def load_data_from_path(folder_path):\n",
        "    examples = []\n",
        "    for label in os.listdir(folder_path):\n",
        "        full_path = os.path.join(folder_path, label)\n",
        "        for file_name in os.listdir(full_path):\n",
        "            file_path = os.path.join(full_path, file_name)\n",
        "            with open(file_path, \"r\", encoding=\"utf-8\") as f:\n",
        "                lines = f.readlines()\n",
        "            sentence = \" \".join(lines)\n",
        "            if label == \"neg\":\n",
        "                label = 0\n",
        "            if label == \"pos\":\n",
        "                label = 1\n",
        "            data = {\n",
        "                'sentence': sentence,\n",
        "                'label': label\n",
        "            }\n",
        "            examples.append(data)\n",
        "    return pd.DataFrame(examples)"
      ]
    },
    {
      "cell_type": "code",
      "execution_count": null,
      "metadata": {
        "id": "GZxIF6mCrkrF"
      },
      "outputs": [],
      "source": [
        "folder_paths = {\n",
        "    'train': './data/data_train/train',\n",
        "    'valid': './data/data_train/test',\n",
        "    'test': './data/data_test/test'\n",
        "}\n",
        "\n",
        "train_df = load_data_from_path(folder_paths['train'])\n",
        "valid_df = load_data_from_path(folder_paths['valid'])\n",
        "test_df = load_data_from_path(folder_paths['test'])"
      ]
    },
    {
      "cell_type": "code",
      "execution_count": null,
      "metadata": {
        "id": "YXEhAwXorkrF",
        "outputId": "dd125e80-639b-4eed-9f3f-524ee31f6338",
        "colab": {
          "base_uri": "https://localhost:8080/",
          "height": 206
        }
      },
      "outputs": [
        {
          "output_type": "execute_result",
          "data": {
            "text/plain": [
              "                                            sentence  label\n",
              "0  Quá thất_vọng cho 1 pub ở ngay trung_tâm saigo...      0\n",
              "1  Thấy review của foody đi ăn thử , thất_vọng vô...      0\n",
              "2  Trc hay ăn đây lắm vì minh dễ ăn . Nhưng hôm_q...      0\n",
              "3  Hm = ) ) ) Ừm , chỗ này lần đầu mình uống nhưn...      0\n",
              "4  Mình có order thức_ăn ở Zé 1 lần duy_nhất và m...      0"
            ],
            "text/html": [
              "\n",
              "  <div id=\"df-7fdea325-601b-4a0f-88dd-2759f5d34003\" class=\"colab-df-container\">\n",
              "    <div>\n",
              "<style scoped>\n",
              "    .dataframe tbody tr th:only-of-type {\n",
              "        vertical-align: middle;\n",
              "    }\n",
              "\n",
              "    .dataframe tbody tr th {\n",
              "        vertical-align: top;\n",
              "    }\n",
              "\n",
              "    .dataframe thead th {\n",
              "        text-align: right;\n",
              "    }\n",
              "</style>\n",
              "<table border=\"1\" class=\"dataframe\">\n",
              "  <thead>\n",
              "    <tr style=\"text-align: right;\">\n",
              "      <th></th>\n",
              "      <th>sentence</th>\n",
              "      <th>label</th>\n",
              "    </tr>\n",
              "  </thead>\n",
              "  <tbody>\n",
              "    <tr>\n",
              "      <th>0</th>\n",
              "      <td>Quá thất_vọng cho 1 pub ở ngay trung_tâm saigo...</td>\n",
              "      <td>0</td>\n",
              "    </tr>\n",
              "    <tr>\n",
              "      <th>1</th>\n",
              "      <td>Thấy review của foody đi ăn thử , thất_vọng vô...</td>\n",
              "      <td>0</td>\n",
              "    </tr>\n",
              "    <tr>\n",
              "      <th>2</th>\n",
              "      <td>Trc hay ăn đây lắm vì minh dễ ăn . Nhưng hôm_q...</td>\n",
              "      <td>0</td>\n",
              "    </tr>\n",
              "    <tr>\n",
              "      <th>3</th>\n",
              "      <td>Hm = ) ) ) Ừm , chỗ này lần đầu mình uống nhưn...</td>\n",
              "      <td>0</td>\n",
              "    </tr>\n",
              "    <tr>\n",
              "      <th>4</th>\n",
              "      <td>Mình có order thức_ăn ở Zé 1 lần duy_nhất và m...</td>\n",
              "      <td>0</td>\n",
              "    </tr>\n",
              "  </tbody>\n",
              "</table>\n",
              "</div>\n",
              "    <div class=\"colab-df-buttons\">\n",
              "\n",
              "  <div class=\"colab-df-container\">\n",
              "    <button class=\"colab-df-convert\" onclick=\"convertToInteractive('df-7fdea325-601b-4a0f-88dd-2759f5d34003')\"\n",
              "            title=\"Convert this dataframe to an interactive table.\"\n",
              "            style=\"display:none;\">\n",
              "\n",
              "  <svg xmlns=\"http://www.w3.org/2000/svg\" height=\"24px\" viewBox=\"0 -960 960 960\">\n",
              "    <path d=\"M120-120v-720h720v720H120Zm60-500h600v-160H180v160Zm220 220h160v-160H400v160Zm0 220h160v-160H400v160ZM180-400h160v-160H180v160Zm440 0h160v-160H620v160ZM180-180h160v-160H180v160Zm440 0h160v-160H620v160Z\"/>\n",
              "  </svg>\n",
              "    </button>\n",
              "\n",
              "  <style>\n",
              "    .colab-df-container {\n",
              "      display:flex;\n",
              "      gap: 12px;\n",
              "    }\n",
              "\n",
              "    .colab-df-convert {\n",
              "      background-color: #E8F0FE;\n",
              "      border: none;\n",
              "      border-radius: 50%;\n",
              "      cursor: pointer;\n",
              "      display: none;\n",
              "      fill: #1967D2;\n",
              "      height: 32px;\n",
              "      padding: 0 0 0 0;\n",
              "      width: 32px;\n",
              "    }\n",
              "\n",
              "    .colab-df-convert:hover {\n",
              "      background-color: #E2EBFA;\n",
              "      box-shadow: 0px 1px 2px rgba(60, 64, 67, 0.3), 0px 1px 3px 1px rgba(60, 64, 67, 0.15);\n",
              "      fill: #174EA6;\n",
              "    }\n",
              "\n",
              "    .colab-df-buttons div {\n",
              "      margin-bottom: 4px;\n",
              "    }\n",
              "\n",
              "    [theme=dark] .colab-df-convert {\n",
              "      background-color: #3B4455;\n",
              "      fill: #D2E3FC;\n",
              "    }\n",
              "\n",
              "    [theme=dark] .colab-df-convert:hover {\n",
              "      background-color: #434B5C;\n",
              "      box-shadow: 0px 1px 3px 1px rgba(0, 0, 0, 0.15);\n",
              "      filter: drop-shadow(0px 1px 2px rgba(0, 0, 0, 0.3));\n",
              "      fill: #FFFFFF;\n",
              "    }\n",
              "  </style>\n",
              "\n",
              "    <script>\n",
              "      const buttonEl =\n",
              "        document.querySelector('#df-7fdea325-601b-4a0f-88dd-2759f5d34003 button.colab-df-convert');\n",
              "      buttonEl.style.display =\n",
              "        google.colab.kernel.accessAllowed ? 'block' : 'none';\n",
              "\n",
              "      async function convertToInteractive(key) {\n",
              "        const element = document.querySelector('#df-7fdea325-601b-4a0f-88dd-2759f5d34003');\n",
              "        const dataTable =\n",
              "          await google.colab.kernel.invokeFunction('convertToInteractive',\n",
              "                                                    [key], {});\n",
              "        if (!dataTable) return;\n",
              "\n",
              "        const docLinkHtml = 'Like what you see? Visit the ' +\n",
              "          '<a target=\"_blank\" href=https://colab.research.google.com/notebooks/data_table.ipynb>data table notebook</a>'\n",
              "          + ' to learn more about interactive tables.';\n",
              "        element.innerHTML = '';\n",
              "        dataTable['output_type'] = 'display_data';\n",
              "        await google.colab.output.renderOutput(dataTable, element);\n",
              "        const docLink = document.createElement('div');\n",
              "        docLink.innerHTML = docLinkHtml;\n",
              "        element.appendChild(docLink);\n",
              "      }\n",
              "    </script>\n",
              "  </div>\n",
              "\n",
              "\n",
              "<div id=\"df-5fec6f8b-7b5c-4a7c-bccf-90217fb4cb78\">\n",
              "  <button class=\"colab-df-quickchart\" onclick=\"quickchart('df-5fec6f8b-7b5c-4a7c-bccf-90217fb4cb78')\"\n",
              "            title=\"Suggest charts.\"\n",
              "            style=\"display:none;\">\n",
              "\n",
              "<svg xmlns=\"http://www.w3.org/2000/svg\" height=\"24px\"viewBox=\"0 0 24 24\"\n",
              "     width=\"24px\">\n",
              "    <g>\n",
              "        <path d=\"M19 3H5c-1.1 0-2 .9-2 2v14c0 1.1.9 2 2 2h14c1.1 0 2-.9 2-2V5c0-1.1-.9-2-2-2zM9 17H7v-7h2v7zm4 0h-2V7h2v10zm4 0h-2v-4h2v4z\"/>\n",
              "    </g>\n",
              "</svg>\n",
              "  </button>\n",
              "\n",
              "<style>\n",
              "  .colab-df-quickchart {\n",
              "      --bg-color: #E8F0FE;\n",
              "      --fill-color: #1967D2;\n",
              "      --hover-bg-color: #E2EBFA;\n",
              "      --hover-fill-color: #174EA6;\n",
              "      --disabled-fill-color: #AAA;\n",
              "      --disabled-bg-color: #DDD;\n",
              "  }\n",
              "\n",
              "  [theme=dark] .colab-df-quickchart {\n",
              "      --bg-color: #3B4455;\n",
              "      --fill-color: #D2E3FC;\n",
              "      --hover-bg-color: #434B5C;\n",
              "      --hover-fill-color: #FFFFFF;\n",
              "      --disabled-bg-color: #3B4455;\n",
              "      --disabled-fill-color: #666;\n",
              "  }\n",
              "\n",
              "  .colab-df-quickchart {\n",
              "    background-color: var(--bg-color);\n",
              "    border: none;\n",
              "    border-radius: 50%;\n",
              "    cursor: pointer;\n",
              "    display: none;\n",
              "    fill: var(--fill-color);\n",
              "    height: 32px;\n",
              "    padding: 0;\n",
              "    width: 32px;\n",
              "  }\n",
              "\n",
              "  .colab-df-quickchart:hover {\n",
              "    background-color: var(--hover-bg-color);\n",
              "    box-shadow: 0 1px 2px rgba(60, 64, 67, 0.3), 0 1px 3px 1px rgba(60, 64, 67, 0.15);\n",
              "    fill: var(--button-hover-fill-color);\n",
              "  }\n",
              "\n",
              "  .colab-df-quickchart-complete:disabled,\n",
              "  .colab-df-quickchart-complete:disabled:hover {\n",
              "    background-color: var(--disabled-bg-color);\n",
              "    fill: var(--disabled-fill-color);\n",
              "    box-shadow: none;\n",
              "  }\n",
              "\n",
              "  .colab-df-spinner {\n",
              "    border: 2px solid var(--fill-color);\n",
              "    border-color: transparent;\n",
              "    border-bottom-color: var(--fill-color);\n",
              "    animation:\n",
              "      spin 1s steps(1) infinite;\n",
              "  }\n",
              "\n",
              "  @keyframes spin {\n",
              "    0% {\n",
              "      border-color: transparent;\n",
              "      border-bottom-color: var(--fill-color);\n",
              "      border-left-color: var(--fill-color);\n",
              "    }\n",
              "    20% {\n",
              "      border-color: transparent;\n",
              "      border-left-color: var(--fill-color);\n",
              "      border-top-color: var(--fill-color);\n",
              "    }\n",
              "    30% {\n",
              "      border-color: transparent;\n",
              "      border-left-color: var(--fill-color);\n",
              "      border-top-color: var(--fill-color);\n",
              "      border-right-color: var(--fill-color);\n",
              "    }\n",
              "    40% {\n",
              "      border-color: transparent;\n",
              "      border-right-color: var(--fill-color);\n",
              "      border-top-color: var(--fill-color);\n",
              "    }\n",
              "    60% {\n",
              "      border-color: transparent;\n",
              "      border-right-color: var(--fill-color);\n",
              "    }\n",
              "    80% {\n",
              "      border-color: transparent;\n",
              "      border-right-color: var(--fill-color);\n",
              "      border-bottom-color: var(--fill-color);\n",
              "    }\n",
              "    90% {\n",
              "      border-color: transparent;\n",
              "      border-bottom-color: var(--fill-color);\n",
              "    }\n",
              "  }\n",
              "</style>\n",
              "\n",
              "  <script>\n",
              "    async function quickchart(key) {\n",
              "      const quickchartButtonEl =\n",
              "        document.querySelector('#' + key + ' button');\n",
              "      quickchartButtonEl.disabled = true;  // To prevent multiple clicks.\n",
              "      quickchartButtonEl.classList.add('colab-df-spinner');\n",
              "      try {\n",
              "        const charts = await google.colab.kernel.invokeFunction(\n",
              "            'suggestCharts', [key], {});\n",
              "      } catch (error) {\n",
              "        console.error('Error during call to suggestCharts:', error);\n",
              "      }\n",
              "      quickchartButtonEl.classList.remove('colab-df-spinner');\n",
              "      quickchartButtonEl.classList.add('colab-df-quickchart-complete');\n",
              "    }\n",
              "    (() => {\n",
              "      let quickchartButtonEl =\n",
              "        document.querySelector('#df-5fec6f8b-7b5c-4a7c-bccf-90217fb4cb78 button');\n",
              "      quickchartButtonEl.style.display =\n",
              "        google.colab.kernel.accessAllowed ? 'block' : 'none';\n",
              "    })();\n",
              "  </script>\n",
              "</div>\n",
              "    </div>\n",
              "  </div>\n"
            ]
          },
          "metadata": {},
          "execution_count": 5
        }
      ],
      "source": [
        "train_df.head(5)"
      ]
    },
    {
      "cell_type": "markdown",
      "metadata": {
        "id": "gC3Wgc0UrkrF"
      },
      "source": [
        "##**2. Preprocessing**"
      ]
    },
    {
      "cell_type": "markdown",
      "metadata": {
        "id": "JRer6QHhrkrG"
      },
      "source": [
        "###**2.1. Language Detection**"
      ]
    },
    {
      "cell_type": "code",
      "execution_count": 2,
      "metadata": {
        "id": "mkFshzWyrkrG",
        "outputId": "9fa59b0b-707b-4415-d967-b8cdfea36503",
        "colab": {
          "base_uri": "https://localhost:8080/"
        }
      },
      "outputs": [
        {
          "output_type": "stream",
          "name": "stdout",
          "text": [
            "Collecting langid\n",
            "  Downloading langid-1.1.6.tar.gz (1.9 MB)\n",
            "\u001b[?25l     \u001b[90m━━━━━━━━━━━━━━━━━━━━━━━━━━━━━━━━━━━━━━━━\u001b[0m \u001b[32m0.0/1.9 MB\u001b[0m \u001b[31m?\u001b[0m eta \u001b[36m-:--:--\u001b[0m\r\u001b[2K     \u001b[91m━━\u001b[0m\u001b[91m╸\u001b[0m\u001b[90m━━━━━━━━━━━━━━━━━━━━━━━━━━━━━━━━━━━━━\u001b[0m \u001b[32m0.1/1.9 MB\u001b[0m \u001b[31m4.9 MB/s\u001b[0m eta \u001b[36m0:00:01\u001b[0m\r\u001b[2K     \u001b[91m━━━━━━━━━━━━━━━━━━━━━━━━━━\u001b[0m\u001b[91m╸\u001b[0m\u001b[90m━━━━━━━━━━━━━\u001b[0m \u001b[32m1.3/1.9 MB\u001b[0m \u001b[31m19.1 MB/s\u001b[0m eta \u001b[36m0:00:01\u001b[0m\r\u001b[2K     \u001b[90m━━━━━━━━━━━━━━━━━━━━━━━━━━━━━━━━━━━━━━━━\u001b[0m \u001b[32m1.9/1.9 MB\u001b[0m \u001b[31m19.8 MB/s\u001b[0m eta \u001b[36m0:00:00\u001b[0m\n",
            "\u001b[?25h  Preparing metadata (setup.py) ... \u001b[?25l\u001b[?25hdone\n",
            "Requirement already satisfied: numpy in /usr/local/lib/python3.10/dist-packages (from langid) (1.26.4)\n",
            "Building wheels for collected packages: langid\n",
            "  Building wheel for langid (setup.py) ... \u001b[?25l\u001b[?25hdone\n",
            "  Created wheel for langid: filename=langid-1.1.6-py3-none-any.whl size=1941171 sha256=37c18ea1c52c8cd64047e5f53eae1d8bd0b7caa2ab03249ed7d0758e4fa1cf8f\n",
            "  Stored in directory: /root/.cache/pip/wheels/23/c8/c6/eed80894918490a175677414d40bd7c851413bbe03d4856c3c\n",
            "Successfully built langid\n",
            "Installing collected packages: langid\n",
            "Successfully installed langid-1.1.6\n"
          ]
        }
      ],
      "source": [
        "!pip install langid"
      ]
    },
    {
      "cell_type": "code",
      "execution_count": 3,
      "metadata": {
        "id": "67SMB4OsrkrG"
      },
      "outputs": [],
      "source": [
        "from langid.langid import LanguageIdentifier, model\n",
        "\n",
        "def identify_vn(df):\n",
        "    identifier = LanguageIdentifier.from_modelstring(model, norm_probs=True)\n",
        "    not_vi_idx = set()\n",
        "    THRESHOLD = 0.9\n",
        "    for idx, row in df.iterrows():\n",
        "        score = identifier.classify(row[\"sentence\"])\n",
        "        if score[0] != \"vi\" or (score[0] == \"vi\" and score[1] <= THRESHOLD):\n",
        "            not_vi_idx.add(idx)\n",
        "    vi_df = df[~df.index.isin(not_vi_idx)]\n",
        "    not_vi_df = df[df.index.isin(not_vi_idx)]\n",
        "    return vi_df, not_vi_df"
      ]
    },
    {
      "cell_type": "code",
      "execution_count": null,
      "metadata": {
        "id": "8hR7Y4w8rkrG"
      },
      "outputs": [],
      "source": [
        "train_df_vi, train_df_other = identify_vn(train_df)"
      ]
    },
    {
      "cell_type": "code",
      "execution_count": null,
      "metadata": {
        "id": "w_9nfPzxrkrG",
        "outputId": "4d26d2b3-7213-46f0-ce85-b69cd514e83a",
        "colab": {
          "base_uri": "https://localhost:8080/",
          "height": 423
        }
      },
      "outputs": [
        {
          "output_type": "execute_result",
          "data": {
            "text/plain": [
              "                                                sentence  label\n",
              "0      Đến vào soft opening , nói thật_là chỉ ưng trâ...      0\n",
              "1      Ăn một phần kem dừa với một viên kem dừa mà 30...      0\n",
              "2      Đi ăn vào đúng dịp 8/3 nên quán rất đông , như...      0\n",
              "3      Thấy mấy bạn khen quá nên đi ăn thử , thất_vọn...      0\n",
              "4      Không_gian : không nhỏ lắm , có bàn ngoài_trời...      0\n",
              "...                                                  ...    ...\n",
              "29994  Quán trang_trí bắt_mắt , nhạc nghe hay\\n Nhân_...      1\n",
              "29995  Lúc tầm giờ chiều có ghé vào cùng ba mình và đ...      1\n",
              "29996  Vì không được vào khu nội tự nên cảm_thấy khá ...      1\n",
              "29997  Quán mới , mọi thứ mới , nhân_viên cũng mới và...      1\n",
              "29998  Thích ngay cái nhìn đầu_tiên ( y ) Like mạnh c...      1\n",
              "\n",
              "[29736 rows x 2 columns]"
            ],
            "text/html": [
              "\n",
              "  <div id=\"df-fc411c6e-54da-440b-90af-499dde777f7c\" class=\"colab-df-container\">\n",
              "    <div>\n",
              "<style scoped>\n",
              "    .dataframe tbody tr th:only-of-type {\n",
              "        vertical-align: middle;\n",
              "    }\n",
              "\n",
              "    .dataframe tbody tr th {\n",
              "        vertical-align: top;\n",
              "    }\n",
              "\n",
              "    .dataframe thead th {\n",
              "        text-align: right;\n",
              "    }\n",
              "</style>\n",
              "<table border=\"1\" class=\"dataframe\">\n",
              "  <thead>\n",
              "    <tr style=\"text-align: right;\">\n",
              "      <th></th>\n",
              "      <th>sentence</th>\n",
              "      <th>label</th>\n",
              "    </tr>\n",
              "  </thead>\n",
              "  <tbody>\n",
              "    <tr>\n",
              "      <th>0</th>\n",
              "      <td>Đến vào soft opening , nói thật_là chỉ ưng trâ...</td>\n",
              "      <td>0</td>\n",
              "    </tr>\n",
              "    <tr>\n",
              "      <th>1</th>\n",
              "      <td>Ăn một phần kem dừa với một viên kem dừa mà 30...</td>\n",
              "      <td>0</td>\n",
              "    </tr>\n",
              "    <tr>\n",
              "      <th>2</th>\n",
              "      <td>Đi ăn vào đúng dịp 8/3 nên quán rất đông , như...</td>\n",
              "      <td>0</td>\n",
              "    </tr>\n",
              "    <tr>\n",
              "      <th>3</th>\n",
              "      <td>Thấy mấy bạn khen quá nên đi ăn thử , thất_vọn...</td>\n",
              "      <td>0</td>\n",
              "    </tr>\n",
              "    <tr>\n",
              "      <th>4</th>\n",
              "      <td>Không_gian : không nhỏ lắm , có bàn ngoài_trời...</td>\n",
              "      <td>0</td>\n",
              "    </tr>\n",
              "    <tr>\n",
              "      <th>...</th>\n",
              "      <td>...</td>\n",
              "      <td>...</td>\n",
              "    </tr>\n",
              "    <tr>\n",
              "      <th>29994</th>\n",
              "      <td>Quán trang_trí bắt_mắt , nhạc nghe hay\\n Nhân_...</td>\n",
              "      <td>1</td>\n",
              "    </tr>\n",
              "    <tr>\n",
              "      <th>29995</th>\n",
              "      <td>Lúc tầm giờ chiều có ghé vào cùng ba mình và đ...</td>\n",
              "      <td>1</td>\n",
              "    </tr>\n",
              "    <tr>\n",
              "      <th>29996</th>\n",
              "      <td>Vì không được vào khu nội tự nên cảm_thấy khá ...</td>\n",
              "      <td>1</td>\n",
              "    </tr>\n",
              "    <tr>\n",
              "      <th>29997</th>\n",
              "      <td>Quán mới , mọi thứ mới , nhân_viên cũng mới và...</td>\n",
              "      <td>1</td>\n",
              "    </tr>\n",
              "    <tr>\n",
              "      <th>29998</th>\n",
              "      <td>Thích ngay cái nhìn đầu_tiên ( y ) Like mạnh c...</td>\n",
              "      <td>1</td>\n",
              "    </tr>\n",
              "  </tbody>\n",
              "</table>\n",
              "<p>29736 rows × 2 columns</p>\n",
              "</div>\n",
              "    <div class=\"colab-df-buttons\">\n",
              "\n",
              "  <div class=\"colab-df-container\">\n",
              "    <button class=\"colab-df-convert\" onclick=\"convertToInteractive('df-fc411c6e-54da-440b-90af-499dde777f7c')\"\n",
              "            title=\"Convert this dataframe to an interactive table.\"\n",
              "            style=\"display:none;\">\n",
              "\n",
              "  <svg xmlns=\"http://www.w3.org/2000/svg\" height=\"24px\" viewBox=\"0 -960 960 960\">\n",
              "    <path d=\"M120-120v-720h720v720H120Zm60-500h600v-160H180v160Zm220 220h160v-160H400v160Zm0 220h160v-160H400v160ZM180-400h160v-160H180v160Zm440 0h160v-160H620v160ZM180-180h160v-160H180v160Zm440 0h160v-160H620v160Z\"/>\n",
              "  </svg>\n",
              "    </button>\n",
              "\n",
              "  <style>\n",
              "    .colab-df-container {\n",
              "      display:flex;\n",
              "      gap: 12px;\n",
              "    }\n",
              "\n",
              "    .colab-df-convert {\n",
              "      background-color: #E8F0FE;\n",
              "      border: none;\n",
              "      border-radius: 50%;\n",
              "      cursor: pointer;\n",
              "      display: none;\n",
              "      fill: #1967D2;\n",
              "      height: 32px;\n",
              "      padding: 0 0 0 0;\n",
              "      width: 32px;\n",
              "    }\n",
              "\n",
              "    .colab-df-convert:hover {\n",
              "      background-color: #E2EBFA;\n",
              "      box-shadow: 0px 1px 2px rgba(60, 64, 67, 0.3), 0px 1px 3px 1px rgba(60, 64, 67, 0.15);\n",
              "      fill: #174EA6;\n",
              "    }\n",
              "\n",
              "    .colab-df-buttons div {\n",
              "      margin-bottom: 4px;\n",
              "    }\n",
              "\n",
              "    [theme=dark] .colab-df-convert {\n",
              "      background-color: #3B4455;\n",
              "      fill: #D2E3FC;\n",
              "    }\n",
              "\n",
              "    [theme=dark] .colab-df-convert:hover {\n",
              "      background-color: #434B5C;\n",
              "      box-shadow: 0px 1px 3px 1px rgba(0, 0, 0, 0.15);\n",
              "      filter: drop-shadow(0px 1px 2px rgba(0, 0, 0, 0.3));\n",
              "      fill: #FFFFFF;\n",
              "    }\n",
              "  </style>\n",
              "\n",
              "    <script>\n",
              "      const buttonEl =\n",
              "        document.querySelector('#df-fc411c6e-54da-440b-90af-499dde777f7c button.colab-df-convert');\n",
              "      buttonEl.style.display =\n",
              "        google.colab.kernel.accessAllowed ? 'block' : 'none';\n",
              "\n",
              "      async function convertToInteractive(key) {\n",
              "        const element = document.querySelector('#df-fc411c6e-54da-440b-90af-499dde777f7c');\n",
              "        const dataTable =\n",
              "          await google.colab.kernel.invokeFunction('convertToInteractive',\n",
              "                                                    [key], {});\n",
              "        if (!dataTable) return;\n",
              "\n",
              "        const docLinkHtml = 'Like what you see? Visit the ' +\n",
              "          '<a target=\"_blank\" href=https://colab.research.google.com/notebooks/data_table.ipynb>data table notebook</a>'\n",
              "          + ' to learn more about interactive tables.';\n",
              "        element.innerHTML = '';\n",
              "        dataTable['output_type'] = 'display_data';\n",
              "        await google.colab.output.renderOutput(dataTable, element);\n",
              "        const docLink = document.createElement('div');\n",
              "        docLink.innerHTML = docLinkHtml;\n",
              "        element.appendChild(docLink);\n",
              "      }\n",
              "    </script>\n",
              "  </div>\n",
              "\n",
              "\n",
              "<div id=\"df-843df379-ebbc-4090-ab4b-a40d0bcfb8f6\">\n",
              "  <button class=\"colab-df-quickchart\" onclick=\"quickchart('df-843df379-ebbc-4090-ab4b-a40d0bcfb8f6')\"\n",
              "            title=\"Suggest charts.\"\n",
              "            style=\"display:none;\">\n",
              "\n",
              "<svg xmlns=\"http://www.w3.org/2000/svg\" height=\"24px\"viewBox=\"0 0 24 24\"\n",
              "     width=\"24px\">\n",
              "    <g>\n",
              "        <path d=\"M19 3H5c-1.1 0-2 .9-2 2v14c0 1.1.9 2 2 2h14c1.1 0 2-.9 2-2V5c0-1.1-.9-2-2-2zM9 17H7v-7h2v7zm4 0h-2V7h2v10zm4 0h-2v-4h2v4z\"/>\n",
              "    </g>\n",
              "</svg>\n",
              "  </button>\n",
              "\n",
              "<style>\n",
              "  .colab-df-quickchart {\n",
              "      --bg-color: #E8F0FE;\n",
              "      --fill-color: #1967D2;\n",
              "      --hover-bg-color: #E2EBFA;\n",
              "      --hover-fill-color: #174EA6;\n",
              "      --disabled-fill-color: #AAA;\n",
              "      --disabled-bg-color: #DDD;\n",
              "  }\n",
              "\n",
              "  [theme=dark] .colab-df-quickchart {\n",
              "      --bg-color: #3B4455;\n",
              "      --fill-color: #D2E3FC;\n",
              "      --hover-bg-color: #434B5C;\n",
              "      --hover-fill-color: #FFFFFF;\n",
              "      --disabled-bg-color: #3B4455;\n",
              "      --disabled-fill-color: #666;\n",
              "  }\n",
              "\n",
              "  .colab-df-quickchart {\n",
              "    background-color: var(--bg-color);\n",
              "    border: none;\n",
              "    border-radius: 50%;\n",
              "    cursor: pointer;\n",
              "    display: none;\n",
              "    fill: var(--fill-color);\n",
              "    height: 32px;\n",
              "    padding: 0;\n",
              "    width: 32px;\n",
              "  }\n",
              "\n",
              "  .colab-df-quickchart:hover {\n",
              "    background-color: var(--hover-bg-color);\n",
              "    box-shadow: 0 1px 2px rgba(60, 64, 67, 0.3), 0 1px 3px 1px rgba(60, 64, 67, 0.15);\n",
              "    fill: var(--button-hover-fill-color);\n",
              "  }\n",
              "\n",
              "  .colab-df-quickchart-complete:disabled,\n",
              "  .colab-df-quickchart-complete:disabled:hover {\n",
              "    background-color: var(--disabled-bg-color);\n",
              "    fill: var(--disabled-fill-color);\n",
              "    box-shadow: none;\n",
              "  }\n",
              "\n",
              "  .colab-df-spinner {\n",
              "    border: 2px solid var(--fill-color);\n",
              "    border-color: transparent;\n",
              "    border-bottom-color: var(--fill-color);\n",
              "    animation:\n",
              "      spin 1s steps(1) infinite;\n",
              "  }\n",
              "\n",
              "  @keyframes spin {\n",
              "    0% {\n",
              "      border-color: transparent;\n",
              "      border-bottom-color: var(--fill-color);\n",
              "      border-left-color: var(--fill-color);\n",
              "    }\n",
              "    20% {\n",
              "      border-color: transparent;\n",
              "      border-left-color: var(--fill-color);\n",
              "      border-top-color: var(--fill-color);\n",
              "    }\n",
              "    30% {\n",
              "      border-color: transparent;\n",
              "      border-left-color: var(--fill-color);\n",
              "      border-top-color: var(--fill-color);\n",
              "      border-right-color: var(--fill-color);\n",
              "    }\n",
              "    40% {\n",
              "      border-color: transparent;\n",
              "      border-right-color: var(--fill-color);\n",
              "      border-top-color: var(--fill-color);\n",
              "    }\n",
              "    60% {\n",
              "      border-color: transparent;\n",
              "      border-right-color: var(--fill-color);\n",
              "    }\n",
              "    80% {\n",
              "      border-color: transparent;\n",
              "      border-right-color: var(--fill-color);\n",
              "      border-bottom-color: var(--fill-color);\n",
              "    }\n",
              "    90% {\n",
              "      border-color: transparent;\n",
              "      border-bottom-color: var(--fill-color);\n",
              "    }\n",
              "  }\n",
              "</style>\n",
              "\n",
              "  <script>\n",
              "    async function quickchart(key) {\n",
              "      const quickchartButtonEl =\n",
              "        document.querySelector('#' + key + ' button');\n",
              "      quickchartButtonEl.disabled = true;  // To prevent multiple clicks.\n",
              "      quickchartButtonEl.classList.add('colab-df-spinner');\n",
              "      try {\n",
              "        const charts = await google.colab.kernel.invokeFunction(\n",
              "            'suggestCharts', [key], {});\n",
              "      } catch (error) {\n",
              "        console.error('Error during call to suggestCharts:', error);\n",
              "      }\n",
              "      quickchartButtonEl.classList.remove('colab-df-spinner');\n",
              "      quickchartButtonEl.classList.add('colab-df-quickchart-complete');\n",
              "    }\n",
              "    (() => {\n",
              "      let quickchartButtonEl =\n",
              "        document.querySelector('#df-843df379-ebbc-4090-ab4b-a40d0bcfb8f6 button');\n",
              "      quickchartButtonEl.style.display =\n",
              "        google.colab.kernel.accessAllowed ? 'block' : 'none';\n",
              "    })();\n",
              "  </script>\n",
              "</div>\n",
              "    </div>\n",
              "  </div>\n"
            ]
          },
          "metadata": {},
          "execution_count": 8
        }
      ],
      "source": [
        "train_df_vi"
      ]
    },
    {
      "cell_type": "code",
      "execution_count": null,
      "metadata": {
        "id": "vajiWpYNrkrH",
        "outputId": "146ad0a1-b11e-476a-e0b2-2e69bd2d1297",
        "colab": {
          "base_uri": "https://localhost:8080/",
          "height": 423
        }
      },
      "outputs": [
        {
          "output_type": "execute_result",
          "data": {
            "text/plain": [
              "                                                sentence  label\n",
              "40     Lam gi co cho goi xe ... ... cho thi chat choi...      0\n",
              "155    Fuf hug igv uvu ucy gyc jv yc yc 6 ycy g 7h kh...      0\n",
              "629    We were at Buffet_Ganh last night and it was p...      0\n",
              "630    The customer service was not too bad . But the...      0\n",
              "669    О с е н ь д о л г о г о т о в я т , а б с о л ...      0\n",
              "...                                                  ...    ...\n",
              "29769  Came here after dinner , parking and access wa...      1\n",
              "29771  Nghe ban gioi thieu nen den quan uong thu . La...      1\n",
              "29928  I went to eat udon with my vietnamese friends ...      1\n",
              "29991  This place has a really # chill vibe to it and...      1\n",
              "29999  O day tung sua quan 1 lan nen quan cang ngay c...      1\n",
              "\n",
              "[264 rows x 2 columns]"
            ],
            "text/html": [
              "\n",
              "  <div id=\"df-c76d6f16-45a5-4563-903e-668a865cd25b\" class=\"colab-df-container\">\n",
              "    <div>\n",
              "<style scoped>\n",
              "    .dataframe tbody tr th:only-of-type {\n",
              "        vertical-align: middle;\n",
              "    }\n",
              "\n",
              "    .dataframe tbody tr th {\n",
              "        vertical-align: top;\n",
              "    }\n",
              "\n",
              "    .dataframe thead th {\n",
              "        text-align: right;\n",
              "    }\n",
              "</style>\n",
              "<table border=\"1\" class=\"dataframe\">\n",
              "  <thead>\n",
              "    <tr style=\"text-align: right;\">\n",
              "      <th></th>\n",
              "      <th>sentence</th>\n",
              "      <th>label</th>\n",
              "    </tr>\n",
              "  </thead>\n",
              "  <tbody>\n",
              "    <tr>\n",
              "      <th>40</th>\n",
              "      <td>Lam gi co cho goi xe ... ... cho thi chat choi...</td>\n",
              "      <td>0</td>\n",
              "    </tr>\n",
              "    <tr>\n",
              "      <th>155</th>\n",
              "      <td>Fuf hug igv uvu ucy gyc jv yc yc 6 ycy g 7h kh...</td>\n",
              "      <td>0</td>\n",
              "    </tr>\n",
              "    <tr>\n",
              "      <th>629</th>\n",
              "      <td>We were at Buffet_Ganh last night and it was p...</td>\n",
              "      <td>0</td>\n",
              "    </tr>\n",
              "    <tr>\n",
              "      <th>630</th>\n",
              "      <td>The customer service was not too bad . But the...</td>\n",
              "      <td>0</td>\n",
              "    </tr>\n",
              "    <tr>\n",
              "      <th>669</th>\n",
              "      <td>О с е н ь д о л г о г о т о в я т , а б с о л ...</td>\n",
              "      <td>0</td>\n",
              "    </tr>\n",
              "    <tr>\n",
              "      <th>...</th>\n",
              "      <td>...</td>\n",
              "      <td>...</td>\n",
              "    </tr>\n",
              "    <tr>\n",
              "      <th>29769</th>\n",
              "      <td>Came here after dinner , parking and access wa...</td>\n",
              "      <td>1</td>\n",
              "    </tr>\n",
              "    <tr>\n",
              "      <th>29771</th>\n",
              "      <td>Nghe ban gioi thieu nen den quan uong thu . La...</td>\n",
              "      <td>1</td>\n",
              "    </tr>\n",
              "    <tr>\n",
              "      <th>29928</th>\n",
              "      <td>I went to eat udon with my vietnamese friends ...</td>\n",
              "      <td>1</td>\n",
              "    </tr>\n",
              "    <tr>\n",
              "      <th>29991</th>\n",
              "      <td>This place has a really # chill vibe to it and...</td>\n",
              "      <td>1</td>\n",
              "    </tr>\n",
              "    <tr>\n",
              "      <th>29999</th>\n",
              "      <td>O day tung sua quan 1 lan nen quan cang ngay c...</td>\n",
              "      <td>1</td>\n",
              "    </tr>\n",
              "  </tbody>\n",
              "</table>\n",
              "<p>264 rows × 2 columns</p>\n",
              "</div>\n",
              "    <div class=\"colab-df-buttons\">\n",
              "\n",
              "  <div class=\"colab-df-container\">\n",
              "    <button class=\"colab-df-convert\" onclick=\"convertToInteractive('df-c76d6f16-45a5-4563-903e-668a865cd25b')\"\n",
              "            title=\"Convert this dataframe to an interactive table.\"\n",
              "            style=\"display:none;\">\n",
              "\n",
              "  <svg xmlns=\"http://www.w3.org/2000/svg\" height=\"24px\" viewBox=\"0 -960 960 960\">\n",
              "    <path d=\"M120-120v-720h720v720H120Zm60-500h600v-160H180v160Zm220 220h160v-160H400v160Zm0 220h160v-160H400v160ZM180-400h160v-160H180v160Zm440 0h160v-160H620v160ZM180-180h160v-160H180v160Zm440 0h160v-160H620v160Z\"/>\n",
              "  </svg>\n",
              "    </button>\n",
              "\n",
              "  <style>\n",
              "    .colab-df-container {\n",
              "      display:flex;\n",
              "      gap: 12px;\n",
              "    }\n",
              "\n",
              "    .colab-df-convert {\n",
              "      background-color: #E8F0FE;\n",
              "      border: none;\n",
              "      border-radius: 50%;\n",
              "      cursor: pointer;\n",
              "      display: none;\n",
              "      fill: #1967D2;\n",
              "      height: 32px;\n",
              "      padding: 0 0 0 0;\n",
              "      width: 32px;\n",
              "    }\n",
              "\n",
              "    .colab-df-convert:hover {\n",
              "      background-color: #E2EBFA;\n",
              "      box-shadow: 0px 1px 2px rgba(60, 64, 67, 0.3), 0px 1px 3px 1px rgba(60, 64, 67, 0.15);\n",
              "      fill: #174EA6;\n",
              "    }\n",
              "\n",
              "    .colab-df-buttons div {\n",
              "      margin-bottom: 4px;\n",
              "    }\n",
              "\n",
              "    [theme=dark] .colab-df-convert {\n",
              "      background-color: #3B4455;\n",
              "      fill: #D2E3FC;\n",
              "    }\n",
              "\n",
              "    [theme=dark] .colab-df-convert:hover {\n",
              "      background-color: #434B5C;\n",
              "      box-shadow: 0px 1px 3px 1px rgba(0, 0, 0, 0.15);\n",
              "      filter: drop-shadow(0px 1px 2px rgba(0, 0, 0, 0.3));\n",
              "      fill: #FFFFFF;\n",
              "    }\n",
              "  </style>\n",
              "\n",
              "    <script>\n",
              "      const buttonEl =\n",
              "        document.querySelector('#df-c76d6f16-45a5-4563-903e-668a865cd25b button.colab-df-convert');\n",
              "      buttonEl.style.display =\n",
              "        google.colab.kernel.accessAllowed ? 'block' : 'none';\n",
              "\n",
              "      async function convertToInteractive(key) {\n",
              "        const element = document.querySelector('#df-c76d6f16-45a5-4563-903e-668a865cd25b');\n",
              "        const dataTable =\n",
              "          await google.colab.kernel.invokeFunction('convertToInteractive',\n",
              "                                                    [key], {});\n",
              "        if (!dataTable) return;\n",
              "\n",
              "        const docLinkHtml = 'Like what you see? Visit the ' +\n",
              "          '<a target=\"_blank\" href=https://colab.research.google.com/notebooks/data_table.ipynb>data table notebook</a>'\n",
              "          + ' to learn more about interactive tables.';\n",
              "        element.innerHTML = '';\n",
              "        dataTable['output_type'] = 'display_data';\n",
              "        await google.colab.output.renderOutput(dataTable, element);\n",
              "        const docLink = document.createElement('div');\n",
              "        docLink.innerHTML = docLinkHtml;\n",
              "        element.appendChild(docLink);\n",
              "      }\n",
              "    </script>\n",
              "  </div>\n",
              "\n",
              "\n",
              "<div id=\"df-bdb3c6fa-b759-4f5a-b1c3-d022395ba46b\">\n",
              "  <button class=\"colab-df-quickchart\" onclick=\"quickchart('df-bdb3c6fa-b759-4f5a-b1c3-d022395ba46b')\"\n",
              "            title=\"Suggest charts.\"\n",
              "            style=\"display:none;\">\n",
              "\n",
              "<svg xmlns=\"http://www.w3.org/2000/svg\" height=\"24px\"viewBox=\"0 0 24 24\"\n",
              "     width=\"24px\">\n",
              "    <g>\n",
              "        <path d=\"M19 3H5c-1.1 0-2 .9-2 2v14c0 1.1.9 2 2 2h14c1.1 0 2-.9 2-2V5c0-1.1-.9-2-2-2zM9 17H7v-7h2v7zm4 0h-2V7h2v10zm4 0h-2v-4h2v4z\"/>\n",
              "    </g>\n",
              "</svg>\n",
              "  </button>\n",
              "\n",
              "<style>\n",
              "  .colab-df-quickchart {\n",
              "      --bg-color: #E8F0FE;\n",
              "      --fill-color: #1967D2;\n",
              "      --hover-bg-color: #E2EBFA;\n",
              "      --hover-fill-color: #174EA6;\n",
              "      --disabled-fill-color: #AAA;\n",
              "      --disabled-bg-color: #DDD;\n",
              "  }\n",
              "\n",
              "  [theme=dark] .colab-df-quickchart {\n",
              "      --bg-color: #3B4455;\n",
              "      --fill-color: #D2E3FC;\n",
              "      --hover-bg-color: #434B5C;\n",
              "      --hover-fill-color: #FFFFFF;\n",
              "      --disabled-bg-color: #3B4455;\n",
              "      --disabled-fill-color: #666;\n",
              "  }\n",
              "\n",
              "  .colab-df-quickchart {\n",
              "    background-color: var(--bg-color);\n",
              "    border: none;\n",
              "    border-radius: 50%;\n",
              "    cursor: pointer;\n",
              "    display: none;\n",
              "    fill: var(--fill-color);\n",
              "    height: 32px;\n",
              "    padding: 0;\n",
              "    width: 32px;\n",
              "  }\n",
              "\n",
              "  .colab-df-quickchart:hover {\n",
              "    background-color: var(--hover-bg-color);\n",
              "    box-shadow: 0 1px 2px rgba(60, 64, 67, 0.3), 0 1px 3px 1px rgba(60, 64, 67, 0.15);\n",
              "    fill: var(--button-hover-fill-color);\n",
              "  }\n",
              "\n",
              "  .colab-df-quickchart-complete:disabled,\n",
              "  .colab-df-quickchart-complete:disabled:hover {\n",
              "    background-color: var(--disabled-bg-color);\n",
              "    fill: var(--disabled-fill-color);\n",
              "    box-shadow: none;\n",
              "  }\n",
              "\n",
              "  .colab-df-spinner {\n",
              "    border: 2px solid var(--fill-color);\n",
              "    border-color: transparent;\n",
              "    border-bottom-color: var(--fill-color);\n",
              "    animation:\n",
              "      spin 1s steps(1) infinite;\n",
              "  }\n",
              "\n",
              "  @keyframes spin {\n",
              "    0% {\n",
              "      border-color: transparent;\n",
              "      border-bottom-color: var(--fill-color);\n",
              "      border-left-color: var(--fill-color);\n",
              "    }\n",
              "    20% {\n",
              "      border-color: transparent;\n",
              "      border-left-color: var(--fill-color);\n",
              "      border-top-color: var(--fill-color);\n",
              "    }\n",
              "    30% {\n",
              "      border-color: transparent;\n",
              "      border-left-color: var(--fill-color);\n",
              "      border-top-color: var(--fill-color);\n",
              "      border-right-color: var(--fill-color);\n",
              "    }\n",
              "    40% {\n",
              "      border-color: transparent;\n",
              "      border-right-color: var(--fill-color);\n",
              "      border-top-color: var(--fill-color);\n",
              "    }\n",
              "    60% {\n",
              "      border-color: transparent;\n",
              "      border-right-color: var(--fill-color);\n",
              "    }\n",
              "    80% {\n",
              "      border-color: transparent;\n",
              "      border-right-color: var(--fill-color);\n",
              "      border-bottom-color: var(--fill-color);\n",
              "    }\n",
              "    90% {\n",
              "      border-color: transparent;\n",
              "      border-bottom-color: var(--fill-color);\n",
              "    }\n",
              "  }\n",
              "</style>\n",
              "\n",
              "  <script>\n",
              "    async function quickchart(key) {\n",
              "      const quickchartButtonEl =\n",
              "        document.querySelector('#' + key + ' button');\n",
              "      quickchartButtonEl.disabled = true;  // To prevent multiple clicks.\n",
              "      quickchartButtonEl.classList.add('colab-df-spinner');\n",
              "      try {\n",
              "        const charts = await google.colab.kernel.invokeFunction(\n",
              "            'suggestCharts', [key], {});\n",
              "      } catch (error) {\n",
              "        console.error('Error during call to suggestCharts:', error);\n",
              "      }\n",
              "      quickchartButtonEl.classList.remove('colab-df-spinner');\n",
              "      quickchartButtonEl.classList.add('colab-df-quickchart-complete');\n",
              "    }\n",
              "    (() => {\n",
              "      let quickchartButtonEl =\n",
              "        document.querySelector('#df-bdb3c6fa-b759-4f5a-b1c3-d022395ba46b button');\n",
              "      quickchartButtonEl.style.display =\n",
              "        google.colab.kernel.accessAllowed ? 'block' : 'none';\n",
              "    })();\n",
              "  </script>\n",
              "</div>\n",
              "    </div>\n",
              "  </div>\n"
            ]
          },
          "metadata": {},
          "execution_count": 9
        }
      ],
      "source": [
        "train_df_other"
      ]
    },
    {
      "cell_type": "markdown",
      "metadata": {
        "id": "g-g6dtCHrkrH"
      },
      "source": [
        "###**2.2. Preprocessing**"
      ]
    },
    {
      "cell_type": "code",
      "execution_count": null,
      "metadata": {
        "id": "5-RIlCStrkrH"
      },
      "outputs": [],
      "source": [
        "import re\n",
        "import string\n",
        "\n",
        "def preprocess_text(text):\n",
        "\n",
        "    url_pattern = re.compile(r'https?://\\s+\\wwww\\.\\s+')\n",
        "    text = url_pattern.sub(r\" \", text)\n",
        "\n",
        "    html_pattern = re.compile(r'<[^<>]+>')\n",
        "    text = html_pattern.sub(\" \", text)\n",
        "\n",
        "    replace_chars = list(string.punctuation + string.digits)\n",
        "    for char in replace_chars:\n",
        "        text = text.replace(char, \" \")\n",
        "\n",
        "    emoji_pattern = re.compile(\"[\"\n",
        "        u\"\\U0001F600-\\U0001F64F\"  # emoticons\n",
        "        u\"\\U0001F300-\\U0001F5FF\"  # symbols & pictographs\n",
        "        u\"\\U0001F680-\\U0001F6FF\"  # transport & map symbols\n",
        "        u\"\\U0001F1E0-\\U0001F1FF\"  # flags (iOS)\n",
        "        u\"\\U0001F1F2-\\U0001F1F4\"  # Macau flag\n",
        "        u\"\\U0001F1E6-\\U0001F1FF\"  # flags\n",
        "        u\"\\U0001F600-\\U0001F64F\"\n",
        "        u\"\\U00002702-\\U000027B0\"\n",
        "        u\"\\U000024C2-\\U0001F251\"\n",
        "        u\"\\U0001f926-\\U0001f937\"\n",
        "        u\"\\U0001F1F2\"\n",
        "        u\"\\U0001F1F4\"\n",
        "        u\"\\U0001F620\"\n",
        "        u\"\\u200d\"\n",
        "        u\"\\u2640-\\u2642\"\n",
        "        \"]+\", flags=re.UNICODE)\n",
        "    text = emoji_pattern.sub(r\" \", text)\n",
        "\n",
        "    text = \" \".join(text.split())\n",
        "\n",
        "    return text.lower()"
      ]
    },
    {
      "cell_type": "code",
      "execution_count": null,
      "metadata": {
        "id": "5x3vZZwprkrH",
        "outputId": "a433746d-9b96-4c31-c72e-dc1bbf4260f9",
        "colab": {
          "base_uri": "https://localhost:8080/",
          "height": 143
        }
      },
      "outputs": [
        {
          "output_type": "execute_result",
          "data": {
            "text/plain": [
              "'Có_lẽ do mình ăn đồ Hàn nhiều trong khu quận 7 & Tân_Bình nên quán này cứ như nấu không tới ý , ngoài_ra có những điểm không thích sau :\\n • Quán bé xíu , không sạch_sẽ lắm\\n • So với hình_ảnh trong menu thì đúng là \" hình_ảnh rất mang tính minh_hoạ \" - giá_cả nhìn có_vẻ vừa tầm nhưng chất_lượng lại tệ\\n • Chả cá & soup không có gì đặc_sắc\\n • Tokkobki phô_mai ăn được\\n • Bulgogi ngọt như chè í và rất ít thịt , chỉ có miến với rau độn - giá 99k hơi cao\\n • Nhân_viên lơ_đễnh kêu 2-3 thứ thì chỉ đem ra dc 1 thứ , nhắc_đi_nhắc_lại\\n Bạn mình đến quán đầu_tiên và ngồi 1 mình , bạn nhân_viên khi order ngồi xuống ghế đối_diện và ghi làm nhỏ hơi giật_mình : )\\n Chắc khó quay lại lần sau\\n'"
            ],
            "application/vnd.google.colaboratory.intrinsic+json": {
              "type": "string"
            }
          },
          "metadata": {},
          "execution_count": 12
        }
      ],
      "source": [
        "train_df_vi['sentence'][0]"
      ]
    },
    {
      "cell_type": "code",
      "execution_count": null,
      "metadata": {
        "id": "9p825QUyrkrH",
        "outputId": "2267c95b-5820-4fd8-d618-ab4a92aece57",
        "colab": {
          "base_uri": "https://localhost:8080/",
          "height": 125
        }
      },
      "outputs": [
        {
          "output_type": "execute_result",
          "data": {
            "text/plain": [
              "'có lẽ do mình ăn đồ hàn nhiều trong khu quận tân bình nên quán này cứ như nấu không tới ý ngoài ra có những điểm không thích sau • quán bé xíu không sạch sẽ lắm • so với hình ảnh trong menu thì đúng là hình ảnh rất mang tính minh hoạ giá cả nhìn có vẻ vừa tầm nhưng chất lượng lại tệ • chả cá soup không có gì đặc sắc • tokkobki phô mai ăn được • bulgogi ngọt như chè í và rất ít thịt chỉ có miến với rau độn giá k hơi cao • nhân viên lơ đễnh kêu thứ thì chỉ đem ra dc thứ nhắc đi nhắc lại bạn mình đến quán đầu tiên và ngồi mình bạn nhân viên khi order ngồi xuống ghế đối diện và ghi làm nhỏ hơi giật mình chắc khó quay lại lần sau'"
            ],
            "application/vnd.google.colaboratory.intrinsic+json": {
              "type": "string"
            }
          },
          "metadata": {},
          "execution_count": 13
        }
      ],
      "source": [
        "preprocess_text(train_df_vi['sentence'][0])"
      ]
    },
    {
      "cell_type": "code",
      "execution_count": null,
      "metadata": {
        "id": "kxI--G8grkrH",
        "outputId": "335fecfb-a7a7-4279-ba15-b626d345d8c2",
        "colab": {
          "base_uri": "https://localhost:8080/"
        }
      },
      "outputs": [
        {
          "output_type": "stream",
          "name": "stderr",
          "text": [
            "<ipython-input-11-e21d2b59a2cb>:1: SettingWithCopyWarning: \n",
            "A value is trying to be set on a copy of a slice from a DataFrame.\n",
            "Try using .loc[row_indexer,col_indexer] = value instead\n",
            "\n",
            "See the caveats in the documentation: https://pandas.pydata.org/pandas-docs/stable/user_guide/indexing.html#returning-a-view-versus-a-copy\n",
            "  train_df_vi['preprocess_sentence'] = [preprocess_text(row['sentence']) for index, row in train_df_vi.iterrows()]\n"
          ]
        }
      ],
      "source": [
        "train_df_vi['preprocess_sentence'] = [preprocess_text(row['sentence']) for index, row in train_df_vi.iterrows()]\n",
        "valid_df['preprocess_sentence'] = [preprocess_text(row['sentence']) for index, row in valid_df.iterrows()]\n",
        "test_df['preprocess_sentence'] = [preprocess_text(row['sentence']) for index, row in test_df.iterrows()]"
      ]
    },
    {
      "cell_type": "code",
      "execution_count": null,
      "metadata": {
        "id": "iI3r_zmmrkrH",
        "outputId": "d2627846-0c10-4211-a8d9-1f848c7a6e54",
        "colab": {
          "base_uri": "https://localhost:8080/",
          "height": 424
        }
      },
      "outputs": [
        {
          "output_type": "execute_result",
          "data": {
            "text/plain": [
              "                                                sentence  label\n",
              "0      Có_lẽ do mình ăn đồ Hàn nhiều trong khu quận 7...      0\n",
              "1      Um thì view đẹp thiệt , nhưng thái_độ phục_vụ ...      0\n",
              "2      Sa ́ ng nay mi ̀ nh co ́ đi ăn ba ́ nh cuô ́ n...      0\n",
              "3      - Quán bé , nhà_vệ_sinh thì lại rộng , ở khu_p...      0\n",
              "4      Hi_Admin ,\\n Chỗ này đóng_cửa thay tên đổi chủ...      0\n",
              "...                                                  ...    ...\n",
              "29995  Nhà_hàng giá không rẻ mà đông cực , phải đặt c...      1\n",
              "29996  Súp cua này đứng trước cổng truòng học Trần_Bô...      1\n",
              "29997  Cũng lâu rồi không ghé lại quán , kỳ này lên t...      1\n",
              "29998  Hôm_nay có dịp ghé Watcha ăn và uống nhờ chuyế...      1\n",
              "29999  Hôm_nay ghé quán quen này vào một buổi xế_chiề...      1\n",
              "\n",
              "[30000 rows x 2 columns]"
            ],
            "text/html": [
              "\n",
              "  <div id=\"df-16eb4db5-ca22-42ac-9901-2712b3d8dd7e\" class=\"colab-df-container\">\n",
              "    <div>\n",
              "<style scoped>\n",
              "    .dataframe tbody tr th:only-of-type {\n",
              "        vertical-align: middle;\n",
              "    }\n",
              "\n",
              "    .dataframe tbody tr th {\n",
              "        vertical-align: top;\n",
              "    }\n",
              "\n",
              "    .dataframe thead th {\n",
              "        text-align: right;\n",
              "    }\n",
              "</style>\n",
              "<table border=\"1\" class=\"dataframe\">\n",
              "  <thead>\n",
              "    <tr style=\"text-align: right;\">\n",
              "      <th></th>\n",
              "      <th>sentence</th>\n",
              "      <th>label</th>\n",
              "    </tr>\n",
              "  </thead>\n",
              "  <tbody>\n",
              "    <tr>\n",
              "      <th>0</th>\n",
              "      <td>Có_lẽ do mình ăn đồ Hàn nhiều trong khu quận 7...</td>\n",
              "      <td>0</td>\n",
              "    </tr>\n",
              "    <tr>\n",
              "      <th>1</th>\n",
              "      <td>Um thì view đẹp thiệt , nhưng thái_độ phục_vụ ...</td>\n",
              "      <td>0</td>\n",
              "    </tr>\n",
              "    <tr>\n",
              "      <th>2</th>\n",
              "      <td>Sa ́ ng nay mi ̀ nh co ́ đi ăn ba ́ nh cuô ́ n...</td>\n",
              "      <td>0</td>\n",
              "    </tr>\n",
              "    <tr>\n",
              "      <th>3</th>\n",
              "      <td>- Quán bé , nhà_vệ_sinh thì lại rộng , ở khu_p...</td>\n",
              "      <td>0</td>\n",
              "    </tr>\n",
              "    <tr>\n",
              "      <th>4</th>\n",
              "      <td>Hi_Admin ,\\n Chỗ này đóng_cửa thay tên đổi chủ...</td>\n",
              "      <td>0</td>\n",
              "    </tr>\n",
              "    <tr>\n",
              "      <th>...</th>\n",
              "      <td>...</td>\n",
              "      <td>...</td>\n",
              "    </tr>\n",
              "    <tr>\n",
              "      <th>29995</th>\n",
              "      <td>Nhà_hàng giá không rẻ mà đông cực , phải đặt c...</td>\n",
              "      <td>1</td>\n",
              "    </tr>\n",
              "    <tr>\n",
              "      <th>29996</th>\n",
              "      <td>Súp cua này đứng trước cổng truòng học Trần_Bô...</td>\n",
              "      <td>1</td>\n",
              "    </tr>\n",
              "    <tr>\n",
              "      <th>29997</th>\n",
              "      <td>Cũng lâu rồi không ghé lại quán , kỳ này lên t...</td>\n",
              "      <td>1</td>\n",
              "    </tr>\n",
              "    <tr>\n",
              "      <th>29998</th>\n",
              "      <td>Hôm_nay có dịp ghé Watcha ăn và uống nhờ chuyế...</td>\n",
              "      <td>1</td>\n",
              "    </tr>\n",
              "    <tr>\n",
              "      <th>29999</th>\n",
              "      <td>Hôm_nay ghé quán quen này vào một buổi xế_chiề...</td>\n",
              "      <td>1</td>\n",
              "    </tr>\n",
              "  </tbody>\n",
              "</table>\n",
              "<p>30000 rows × 2 columns</p>\n",
              "</div>\n",
              "    <div class=\"colab-df-buttons\">\n",
              "\n",
              "  <div class=\"colab-df-container\">\n",
              "    <button class=\"colab-df-convert\" onclick=\"convertToInteractive('df-16eb4db5-ca22-42ac-9901-2712b3d8dd7e')\"\n",
              "            title=\"Convert this dataframe to an interactive table.\"\n",
              "            style=\"display:none;\">\n",
              "\n",
              "  <svg xmlns=\"http://www.w3.org/2000/svg\" height=\"24px\" viewBox=\"0 -960 960 960\">\n",
              "    <path d=\"M120-120v-720h720v720H120Zm60-500h600v-160H180v160Zm220 220h160v-160H400v160Zm0 220h160v-160H400v160ZM180-400h160v-160H180v160Zm440 0h160v-160H620v160ZM180-180h160v-160H180v160Zm440 0h160v-160H620v160Z\"/>\n",
              "  </svg>\n",
              "    </button>\n",
              "\n",
              "  <style>\n",
              "    .colab-df-container {\n",
              "      display:flex;\n",
              "      gap: 12px;\n",
              "    }\n",
              "\n",
              "    .colab-df-convert {\n",
              "      background-color: #E8F0FE;\n",
              "      border: none;\n",
              "      border-radius: 50%;\n",
              "      cursor: pointer;\n",
              "      display: none;\n",
              "      fill: #1967D2;\n",
              "      height: 32px;\n",
              "      padding: 0 0 0 0;\n",
              "      width: 32px;\n",
              "    }\n",
              "\n",
              "    .colab-df-convert:hover {\n",
              "      background-color: #E2EBFA;\n",
              "      box-shadow: 0px 1px 2px rgba(60, 64, 67, 0.3), 0px 1px 3px 1px rgba(60, 64, 67, 0.15);\n",
              "      fill: #174EA6;\n",
              "    }\n",
              "\n",
              "    .colab-df-buttons div {\n",
              "      margin-bottom: 4px;\n",
              "    }\n",
              "\n",
              "    [theme=dark] .colab-df-convert {\n",
              "      background-color: #3B4455;\n",
              "      fill: #D2E3FC;\n",
              "    }\n",
              "\n",
              "    [theme=dark] .colab-df-convert:hover {\n",
              "      background-color: #434B5C;\n",
              "      box-shadow: 0px 1px 3px 1px rgba(0, 0, 0, 0.15);\n",
              "      filter: drop-shadow(0px 1px 2px rgba(0, 0, 0, 0.3));\n",
              "      fill: #FFFFFF;\n",
              "    }\n",
              "  </style>\n",
              "\n",
              "    <script>\n",
              "      const buttonEl =\n",
              "        document.querySelector('#df-16eb4db5-ca22-42ac-9901-2712b3d8dd7e button.colab-df-convert');\n",
              "      buttonEl.style.display =\n",
              "        google.colab.kernel.accessAllowed ? 'block' : 'none';\n",
              "\n",
              "      async function convertToInteractive(key) {\n",
              "        const element = document.querySelector('#df-16eb4db5-ca22-42ac-9901-2712b3d8dd7e');\n",
              "        const dataTable =\n",
              "          await google.colab.kernel.invokeFunction('convertToInteractive',\n",
              "                                                    [key], {});\n",
              "        if (!dataTable) return;\n",
              "\n",
              "        const docLinkHtml = 'Like what you see? Visit the ' +\n",
              "          '<a target=\"_blank\" href=https://colab.research.google.com/notebooks/data_table.ipynb>data table notebook</a>'\n",
              "          + ' to learn more about interactive tables.';\n",
              "        element.innerHTML = '';\n",
              "        dataTable['output_type'] = 'display_data';\n",
              "        await google.colab.output.renderOutput(dataTable, element);\n",
              "        const docLink = document.createElement('div');\n",
              "        docLink.innerHTML = docLinkHtml;\n",
              "        element.appendChild(docLink);\n",
              "      }\n",
              "    </script>\n",
              "  </div>\n",
              "\n",
              "\n",
              "<div id=\"df-61993727-9ac3-45d5-a490-0126af0ab287\">\n",
              "  <button class=\"colab-df-quickchart\" onclick=\"quickchart('df-61993727-9ac3-45d5-a490-0126af0ab287')\"\n",
              "            title=\"Suggest charts.\"\n",
              "            style=\"display:none;\">\n",
              "\n",
              "<svg xmlns=\"http://www.w3.org/2000/svg\" height=\"24px\"viewBox=\"0 0 24 24\"\n",
              "     width=\"24px\">\n",
              "    <g>\n",
              "        <path d=\"M19 3H5c-1.1 0-2 .9-2 2v14c0 1.1.9 2 2 2h14c1.1 0 2-.9 2-2V5c0-1.1-.9-2-2-2zM9 17H7v-7h2v7zm4 0h-2V7h2v10zm4 0h-2v-4h2v4z\"/>\n",
              "    </g>\n",
              "</svg>\n",
              "  </button>\n",
              "\n",
              "<style>\n",
              "  .colab-df-quickchart {\n",
              "      --bg-color: #E8F0FE;\n",
              "      --fill-color: #1967D2;\n",
              "      --hover-bg-color: #E2EBFA;\n",
              "      --hover-fill-color: #174EA6;\n",
              "      --disabled-fill-color: #AAA;\n",
              "      --disabled-bg-color: #DDD;\n",
              "  }\n",
              "\n",
              "  [theme=dark] .colab-df-quickchart {\n",
              "      --bg-color: #3B4455;\n",
              "      --fill-color: #D2E3FC;\n",
              "      --hover-bg-color: #434B5C;\n",
              "      --hover-fill-color: #FFFFFF;\n",
              "      --disabled-bg-color: #3B4455;\n",
              "      --disabled-fill-color: #666;\n",
              "  }\n",
              "\n",
              "  .colab-df-quickchart {\n",
              "    background-color: var(--bg-color);\n",
              "    border: none;\n",
              "    border-radius: 50%;\n",
              "    cursor: pointer;\n",
              "    display: none;\n",
              "    fill: var(--fill-color);\n",
              "    height: 32px;\n",
              "    padding: 0;\n",
              "    width: 32px;\n",
              "  }\n",
              "\n",
              "  .colab-df-quickchart:hover {\n",
              "    background-color: var(--hover-bg-color);\n",
              "    box-shadow: 0 1px 2px rgba(60, 64, 67, 0.3), 0 1px 3px 1px rgba(60, 64, 67, 0.15);\n",
              "    fill: var(--button-hover-fill-color);\n",
              "  }\n",
              "\n",
              "  .colab-df-quickchart-complete:disabled,\n",
              "  .colab-df-quickchart-complete:disabled:hover {\n",
              "    background-color: var(--disabled-bg-color);\n",
              "    fill: var(--disabled-fill-color);\n",
              "    box-shadow: none;\n",
              "  }\n",
              "\n",
              "  .colab-df-spinner {\n",
              "    border: 2px solid var(--fill-color);\n",
              "    border-color: transparent;\n",
              "    border-bottom-color: var(--fill-color);\n",
              "    animation:\n",
              "      spin 1s steps(1) infinite;\n",
              "  }\n",
              "\n",
              "  @keyframes spin {\n",
              "    0% {\n",
              "      border-color: transparent;\n",
              "      border-bottom-color: var(--fill-color);\n",
              "      border-left-color: var(--fill-color);\n",
              "    }\n",
              "    20% {\n",
              "      border-color: transparent;\n",
              "      border-left-color: var(--fill-color);\n",
              "      border-top-color: var(--fill-color);\n",
              "    }\n",
              "    30% {\n",
              "      border-color: transparent;\n",
              "      border-left-color: var(--fill-color);\n",
              "      border-top-color: var(--fill-color);\n",
              "      border-right-color: var(--fill-color);\n",
              "    }\n",
              "    40% {\n",
              "      border-color: transparent;\n",
              "      border-right-color: var(--fill-color);\n",
              "      border-top-color: var(--fill-color);\n",
              "    }\n",
              "    60% {\n",
              "      border-color: transparent;\n",
              "      border-right-color: var(--fill-color);\n",
              "    }\n",
              "    80% {\n",
              "      border-color: transparent;\n",
              "      border-right-color: var(--fill-color);\n",
              "      border-bottom-color: var(--fill-color);\n",
              "    }\n",
              "    90% {\n",
              "      border-color: transparent;\n",
              "      border-bottom-color: var(--fill-color);\n",
              "    }\n",
              "  }\n",
              "</style>\n",
              "\n",
              "  <script>\n",
              "    async function quickchart(key) {\n",
              "      const quickchartButtonEl =\n",
              "        document.querySelector('#' + key + ' button');\n",
              "      quickchartButtonEl.disabled = true;  // To prevent multiple clicks.\n",
              "      quickchartButtonEl.classList.add('colab-df-spinner');\n",
              "      try {\n",
              "        const charts = await google.colab.kernel.invokeFunction(\n",
              "            'suggestCharts', [key], {});\n",
              "      } catch (error) {\n",
              "        console.error('Error during call to suggestCharts:', error);\n",
              "      }\n",
              "      quickchartButtonEl.classList.remove('colab-df-spinner');\n",
              "      quickchartButtonEl.classList.add('colab-df-quickchart-complete');\n",
              "    }\n",
              "    (() => {\n",
              "      let quickchartButtonEl =\n",
              "        document.querySelector('#df-61993727-9ac3-45d5-a490-0126af0ab287 button');\n",
              "      quickchartButtonEl.style.display =\n",
              "        google.colab.kernel.accessAllowed ? 'block' : 'none';\n",
              "    })();\n",
              "  </script>\n",
              "</div>\n",
              "    </div>\n",
              "  </div>\n"
            ]
          },
          "metadata": {},
          "execution_count": 15
        }
      ],
      "source": [
        "train_df"
      ]
    },
    {
      "cell_type": "code",
      "execution_count": null,
      "metadata": {
        "id": "vNMsPhdlrkrH",
        "outputId": "55937f23-7c72-4db5-ab4b-bdb500880f70",
        "colab": {
          "base_uri": "https://localhost:8080/",
          "height": 424
        }
      },
      "outputs": [
        {
          "output_type": "execute_result",
          "data": {
            "text/plain": [
              "                                               sentence  label  \\\n",
              "0     quán nhỏ nên ngồi và để xe có chút bất_tiện ~ ...      0   \n",
              "1     Công_ty chọn tiệc tân niên ở đây , ban_đầu bên...      0   \n",
              "2     M thấy đồ uống chán qá . M gọi 1 match xay tru...      0   \n",
              "3     Mãi mới có quán gần trường để đi ăn . Dù quá h...      0   \n",
              "4     Thấy mấy đứa bạn kêu ngon nên zô ăn thử , có t...      0   \n",
              "...                                                 ...    ...   \n",
              "9995  Mình mới đến đây vài lần nhưng thấy có nhiều m...      1   \n",
              "9996  Buổi_sáng dậy mà thèm bún_bò thì đây luôn là s...      1   \n",
              "9997  Bánh_tráng ở đây ngon , lạ_miệng nữa . Có nhiề...      1   \n",
              "9998  Bữa mình ghé Aeon chơi xong vô lotteria ăn luô...      1   \n",
              "9999  Một trong những địa_điểm phải đến khi đến Da n...      1   \n",
              "\n",
              "                                    preprocess_sentence  \n",
              "0     quán nhỏ nên ngồi và để xe có chút bất tiện đồ...  \n",
              "1     công ty chọn tiệc tân niên ở đây ban đầu bên n...  \n",
              "2     m thấy đồ uống chán qá m gọi match xay truyền ...  \n",
              "3     mãi mới có quán gần trường để đi ăn dù quá hơi...  \n",
              "4     thấy mấy đứa bạn kêu ngon nên zô ăn thử có thấ...  \n",
              "...                                                 ...  \n",
              "9995  mình mới đến đây vài lần nhưng thấy có nhiều m...  \n",
              "9996  buổi sáng dậy mà thèm bún bò thì đây luôn là s...  \n",
              "9997  bánh tráng ở đây ngon lạ miệng nữa có nhiều lo...  \n",
              "9998  bữa mình ghé aeon chơi xong vô lotteria ăn luô...  \n",
              "9999  một trong những địa điểm phải đến khi đến da n...  \n",
              "\n",
              "[10000 rows x 3 columns]"
            ],
            "text/html": [
              "\n",
              "  <div id=\"df-ee2c7512-fbbb-42b6-9bef-018bb472ffac\" class=\"colab-df-container\">\n",
              "    <div>\n",
              "<style scoped>\n",
              "    .dataframe tbody tr th:only-of-type {\n",
              "        vertical-align: middle;\n",
              "    }\n",
              "\n",
              "    .dataframe tbody tr th {\n",
              "        vertical-align: top;\n",
              "    }\n",
              "\n",
              "    .dataframe thead th {\n",
              "        text-align: right;\n",
              "    }\n",
              "</style>\n",
              "<table border=\"1\" class=\"dataframe\">\n",
              "  <thead>\n",
              "    <tr style=\"text-align: right;\">\n",
              "      <th></th>\n",
              "      <th>sentence</th>\n",
              "      <th>label</th>\n",
              "      <th>preprocess_sentence</th>\n",
              "    </tr>\n",
              "  </thead>\n",
              "  <tbody>\n",
              "    <tr>\n",
              "      <th>0</th>\n",
              "      <td>quán nhỏ nên ngồi và để xe có chút bất_tiện ~ ...</td>\n",
              "      <td>0</td>\n",
              "      <td>quán nhỏ nên ngồi và để xe có chút bất tiện đồ...</td>\n",
              "    </tr>\n",
              "    <tr>\n",
              "      <th>1</th>\n",
              "      <td>Công_ty chọn tiệc tân niên ở đây , ban_đầu bên...</td>\n",
              "      <td>0</td>\n",
              "      <td>công ty chọn tiệc tân niên ở đây ban đầu bên n...</td>\n",
              "    </tr>\n",
              "    <tr>\n",
              "      <th>2</th>\n",
              "      <td>M thấy đồ uống chán qá . M gọi 1 match xay tru...</td>\n",
              "      <td>0</td>\n",
              "      <td>m thấy đồ uống chán qá m gọi match xay truyền ...</td>\n",
              "    </tr>\n",
              "    <tr>\n",
              "      <th>3</th>\n",
              "      <td>Mãi mới có quán gần trường để đi ăn . Dù quá h...</td>\n",
              "      <td>0</td>\n",
              "      <td>mãi mới có quán gần trường để đi ăn dù quá hơi...</td>\n",
              "    </tr>\n",
              "    <tr>\n",
              "      <th>4</th>\n",
              "      <td>Thấy mấy đứa bạn kêu ngon nên zô ăn thử , có t...</td>\n",
              "      <td>0</td>\n",
              "      <td>thấy mấy đứa bạn kêu ngon nên zô ăn thử có thấ...</td>\n",
              "    </tr>\n",
              "    <tr>\n",
              "      <th>...</th>\n",
              "      <td>...</td>\n",
              "      <td>...</td>\n",
              "      <td>...</td>\n",
              "    </tr>\n",
              "    <tr>\n",
              "      <th>9995</th>\n",
              "      <td>Mình mới đến đây vài lần nhưng thấy có nhiều m...</td>\n",
              "      <td>1</td>\n",
              "      <td>mình mới đến đây vài lần nhưng thấy có nhiều m...</td>\n",
              "    </tr>\n",
              "    <tr>\n",
              "      <th>9996</th>\n",
              "      <td>Buổi_sáng dậy mà thèm bún_bò thì đây luôn là s...</td>\n",
              "      <td>1</td>\n",
              "      <td>buổi sáng dậy mà thèm bún bò thì đây luôn là s...</td>\n",
              "    </tr>\n",
              "    <tr>\n",
              "      <th>9997</th>\n",
              "      <td>Bánh_tráng ở đây ngon , lạ_miệng nữa . Có nhiề...</td>\n",
              "      <td>1</td>\n",
              "      <td>bánh tráng ở đây ngon lạ miệng nữa có nhiều lo...</td>\n",
              "    </tr>\n",
              "    <tr>\n",
              "      <th>9998</th>\n",
              "      <td>Bữa mình ghé Aeon chơi xong vô lotteria ăn luô...</td>\n",
              "      <td>1</td>\n",
              "      <td>bữa mình ghé aeon chơi xong vô lotteria ăn luô...</td>\n",
              "    </tr>\n",
              "    <tr>\n",
              "      <th>9999</th>\n",
              "      <td>Một trong những địa_điểm phải đến khi đến Da n...</td>\n",
              "      <td>1</td>\n",
              "      <td>một trong những địa điểm phải đến khi đến da n...</td>\n",
              "    </tr>\n",
              "  </tbody>\n",
              "</table>\n",
              "<p>10000 rows × 3 columns</p>\n",
              "</div>\n",
              "    <div class=\"colab-df-buttons\">\n",
              "\n",
              "  <div class=\"colab-df-container\">\n",
              "    <button class=\"colab-df-convert\" onclick=\"convertToInteractive('df-ee2c7512-fbbb-42b6-9bef-018bb472ffac')\"\n",
              "            title=\"Convert this dataframe to an interactive table.\"\n",
              "            style=\"display:none;\">\n",
              "\n",
              "  <svg xmlns=\"http://www.w3.org/2000/svg\" height=\"24px\" viewBox=\"0 -960 960 960\">\n",
              "    <path d=\"M120-120v-720h720v720H120Zm60-500h600v-160H180v160Zm220 220h160v-160H400v160Zm0 220h160v-160H400v160ZM180-400h160v-160H180v160Zm440 0h160v-160H620v160ZM180-180h160v-160H180v160Zm440 0h160v-160H620v160Z\"/>\n",
              "  </svg>\n",
              "    </button>\n",
              "\n",
              "  <style>\n",
              "    .colab-df-container {\n",
              "      display:flex;\n",
              "      gap: 12px;\n",
              "    }\n",
              "\n",
              "    .colab-df-convert {\n",
              "      background-color: #E8F0FE;\n",
              "      border: none;\n",
              "      border-radius: 50%;\n",
              "      cursor: pointer;\n",
              "      display: none;\n",
              "      fill: #1967D2;\n",
              "      height: 32px;\n",
              "      padding: 0 0 0 0;\n",
              "      width: 32px;\n",
              "    }\n",
              "\n",
              "    .colab-df-convert:hover {\n",
              "      background-color: #E2EBFA;\n",
              "      box-shadow: 0px 1px 2px rgba(60, 64, 67, 0.3), 0px 1px 3px 1px rgba(60, 64, 67, 0.15);\n",
              "      fill: #174EA6;\n",
              "    }\n",
              "\n",
              "    .colab-df-buttons div {\n",
              "      margin-bottom: 4px;\n",
              "    }\n",
              "\n",
              "    [theme=dark] .colab-df-convert {\n",
              "      background-color: #3B4455;\n",
              "      fill: #D2E3FC;\n",
              "    }\n",
              "\n",
              "    [theme=dark] .colab-df-convert:hover {\n",
              "      background-color: #434B5C;\n",
              "      box-shadow: 0px 1px 3px 1px rgba(0, 0, 0, 0.15);\n",
              "      filter: drop-shadow(0px 1px 2px rgba(0, 0, 0, 0.3));\n",
              "      fill: #FFFFFF;\n",
              "    }\n",
              "  </style>\n",
              "\n",
              "    <script>\n",
              "      const buttonEl =\n",
              "        document.querySelector('#df-ee2c7512-fbbb-42b6-9bef-018bb472ffac button.colab-df-convert');\n",
              "      buttonEl.style.display =\n",
              "        google.colab.kernel.accessAllowed ? 'block' : 'none';\n",
              "\n",
              "      async function convertToInteractive(key) {\n",
              "        const element = document.querySelector('#df-ee2c7512-fbbb-42b6-9bef-018bb472ffac');\n",
              "        const dataTable =\n",
              "          await google.colab.kernel.invokeFunction('convertToInteractive',\n",
              "                                                    [key], {});\n",
              "        if (!dataTable) return;\n",
              "\n",
              "        const docLinkHtml = 'Like what you see? Visit the ' +\n",
              "          '<a target=\"_blank\" href=https://colab.research.google.com/notebooks/data_table.ipynb>data table notebook</a>'\n",
              "          + ' to learn more about interactive tables.';\n",
              "        element.innerHTML = '';\n",
              "        dataTable['output_type'] = 'display_data';\n",
              "        await google.colab.output.renderOutput(dataTable, element);\n",
              "        const docLink = document.createElement('div');\n",
              "        docLink.innerHTML = docLinkHtml;\n",
              "        element.appendChild(docLink);\n",
              "      }\n",
              "    </script>\n",
              "  </div>\n",
              "\n",
              "\n",
              "<div id=\"df-2c2ef7b0-4041-4387-ac65-79b599a23686\">\n",
              "  <button class=\"colab-df-quickchart\" onclick=\"quickchart('df-2c2ef7b0-4041-4387-ac65-79b599a23686')\"\n",
              "            title=\"Suggest charts.\"\n",
              "            style=\"display:none;\">\n",
              "\n",
              "<svg xmlns=\"http://www.w3.org/2000/svg\" height=\"24px\"viewBox=\"0 0 24 24\"\n",
              "     width=\"24px\">\n",
              "    <g>\n",
              "        <path d=\"M19 3H5c-1.1 0-2 .9-2 2v14c0 1.1.9 2 2 2h14c1.1 0 2-.9 2-2V5c0-1.1-.9-2-2-2zM9 17H7v-7h2v7zm4 0h-2V7h2v10zm4 0h-2v-4h2v4z\"/>\n",
              "    </g>\n",
              "</svg>\n",
              "  </button>\n",
              "\n",
              "<style>\n",
              "  .colab-df-quickchart {\n",
              "      --bg-color: #E8F0FE;\n",
              "      --fill-color: #1967D2;\n",
              "      --hover-bg-color: #E2EBFA;\n",
              "      --hover-fill-color: #174EA6;\n",
              "      --disabled-fill-color: #AAA;\n",
              "      --disabled-bg-color: #DDD;\n",
              "  }\n",
              "\n",
              "  [theme=dark] .colab-df-quickchart {\n",
              "      --bg-color: #3B4455;\n",
              "      --fill-color: #D2E3FC;\n",
              "      --hover-bg-color: #434B5C;\n",
              "      --hover-fill-color: #FFFFFF;\n",
              "      --disabled-bg-color: #3B4455;\n",
              "      --disabled-fill-color: #666;\n",
              "  }\n",
              "\n",
              "  .colab-df-quickchart {\n",
              "    background-color: var(--bg-color);\n",
              "    border: none;\n",
              "    border-radius: 50%;\n",
              "    cursor: pointer;\n",
              "    display: none;\n",
              "    fill: var(--fill-color);\n",
              "    height: 32px;\n",
              "    padding: 0;\n",
              "    width: 32px;\n",
              "  }\n",
              "\n",
              "  .colab-df-quickchart:hover {\n",
              "    background-color: var(--hover-bg-color);\n",
              "    box-shadow: 0 1px 2px rgba(60, 64, 67, 0.3), 0 1px 3px 1px rgba(60, 64, 67, 0.15);\n",
              "    fill: var(--button-hover-fill-color);\n",
              "  }\n",
              "\n",
              "  .colab-df-quickchart-complete:disabled,\n",
              "  .colab-df-quickchart-complete:disabled:hover {\n",
              "    background-color: var(--disabled-bg-color);\n",
              "    fill: var(--disabled-fill-color);\n",
              "    box-shadow: none;\n",
              "  }\n",
              "\n",
              "  .colab-df-spinner {\n",
              "    border: 2px solid var(--fill-color);\n",
              "    border-color: transparent;\n",
              "    border-bottom-color: var(--fill-color);\n",
              "    animation:\n",
              "      spin 1s steps(1) infinite;\n",
              "  }\n",
              "\n",
              "  @keyframes spin {\n",
              "    0% {\n",
              "      border-color: transparent;\n",
              "      border-bottom-color: var(--fill-color);\n",
              "      border-left-color: var(--fill-color);\n",
              "    }\n",
              "    20% {\n",
              "      border-color: transparent;\n",
              "      border-left-color: var(--fill-color);\n",
              "      border-top-color: var(--fill-color);\n",
              "    }\n",
              "    30% {\n",
              "      border-color: transparent;\n",
              "      border-left-color: var(--fill-color);\n",
              "      border-top-color: var(--fill-color);\n",
              "      border-right-color: var(--fill-color);\n",
              "    }\n",
              "    40% {\n",
              "      border-color: transparent;\n",
              "      border-right-color: var(--fill-color);\n",
              "      border-top-color: var(--fill-color);\n",
              "    }\n",
              "    60% {\n",
              "      border-color: transparent;\n",
              "      border-right-color: var(--fill-color);\n",
              "    }\n",
              "    80% {\n",
              "      border-color: transparent;\n",
              "      border-right-color: var(--fill-color);\n",
              "      border-bottom-color: var(--fill-color);\n",
              "    }\n",
              "    90% {\n",
              "      border-color: transparent;\n",
              "      border-bottom-color: var(--fill-color);\n",
              "    }\n",
              "  }\n",
              "</style>\n",
              "\n",
              "  <script>\n",
              "    async function quickchart(key) {\n",
              "      const quickchartButtonEl =\n",
              "        document.querySelector('#' + key + ' button');\n",
              "      quickchartButtonEl.disabled = true;  // To prevent multiple clicks.\n",
              "      quickchartButtonEl.classList.add('colab-df-spinner');\n",
              "      try {\n",
              "        const charts = await google.colab.kernel.invokeFunction(\n",
              "            'suggestCharts', [key], {});\n",
              "      } catch (error) {\n",
              "        console.error('Error during call to suggestCharts:', error);\n",
              "      }\n",
              "      quickchartButtonEl.classList.remove('colab-df-spinner');\n",
              "      quickchartButtonEl.classList.add('colab-df-quickchart-complete');\n",
              "    }\n",
              "    (() => {\n",
              "      let quickchartButtonEl =\n",
              "        document.querySelector('#df-2c2ef7b0-4041-4387-ac65-79b599a23686 button');\n",
              "      quickchartButtonEl.style.display =\n",
              "        google.colab.kernel.accessAllowed ? 'block' : 'none';\n",
              "    })();\n",
              "  </script>\n",
              "</div>\n",
              "    </div>\n",
              "  </div>\n"
            ]
          },
          "metadata": {},
          "execution_count": 16
        }
      ],
      "source": [
        "valid_df"
      ]
    },
    {
      "cell_type": "code",
      "execution_count": null,
      "metadata": {
        "id": "2E1Aor_QrkrH",
        "outputId": "a6082d23-c12f-449e-eacd-1aeca9c36143",
        "colab": {
          "base_uri": "https://localhost:8080/",
          "height": 424
        }
      },
      "outputs": [
        {
          "output_type": "execute_result",
          "data": {
            "text/plain": [
              "                                               sentence  label  \\\n",
              "0     Vừa ăn xong , đây là nhận_xét của mình .\\n Nhâ...      0   \n",
              "1     Bữa ghé ăn đây , thấy ăn cũng được xà_lách trộ...      0   \n",
              "2     Thấy quán đông hiếu_kì nên ghé thử . Ăn xong r...      0   \n",
              "3     Bánh hong ngon như mong_đợi . Thấy cmt trên fo...      0   \n",
              "4     Tuy hơi khó tìm ra địa_chỉ , nhưng nem ở đây k...      0   \n",
              "...                                                 ...    ...   \n",
              "9995  Trà sữa ở đây thơm mùi trà và béo vị sữa . The...      1   \n",
              "9996  Không_gian quán ấm_áp thích lắm ý : ) ) ) nhân...      1   \n",
              "9997  Không_gian đẹp , sang_trọng . Chị mình chuẩn_b...      1   \n",
              "9998  Really_Nice_Place to get a good meal for a ver...      1   \n",
              "9999  Thẻ vip của Sam.đã rẻ mà_còn giảm nữa mình thí...      1   \n",
              "\n",
              "                                    preprocess_sentence  \n",
              "0     vừa ăn xong đây là nhận xét của mình nhân viên...  \n",
              "1     bữa ghé ăn đây thấy ăn cũng được xà lách trộn ...  \n",
              "2     thấy quán đông hiếu kì nên ghé thử ăn xong rồi...  \n",
              "3     bánh hong ngon như mong đợi thấy cmt trên food...  \n",
              "4     tuy hơi khó tìm ra địa chỉ nhưng nem ở đây khá...  \n",
              "...                                                 ...  \n",
              "9995  trà sữa ở đây thơm mùi trà và béo vị sữa theo ...  \n",
              "9996  không gian quán ấm áp thích lắm ý nhân viên lẫ...  \n",
              "9997  không gian đẹp sang trọng chị mình chuẩn bị tổ...  \n",
              "9998  really nice place to get a good meal for a ver...  \n",
              "9999  thẻ vip của sam đã rẻ mà còn giảm nữa mình thí...  \n",
              "\n",
              "[10000 rows x 3 columns]"
            ],
            "text/html": [
              "\n",
              "  <div id=\"df-51b870f2-d79a-4de5-a6b2-a6bb60eb53e4\" class=\"colab-df-container\">\n",
              "    <div>\n",
              "<style scoped>\n",
              "    .dataframe tbody tr th:only-of-type {\n",
              "        vertical-align: middle;\n",
              "    }\n",
              "\n",
              "    .dataframe tbody tr th {\n",
              "        vertical-align: top;\n",
              "    }\n",
              "\n",
              "    .dataframe thead th {\n",
              "        text-align: right;\n",
              "    }\n",
              "</style>\n",
              "<table border=\"1\" class=\"dataframe\">\n",
              "  <thead>\n",
              "    <tr style=\"text-align: right;\">\n",
              "      <th></th>\n",
              "      <th>sentence</th>\n",
              "      <th>label</th>\n",
              "      <th>preprocess_sentence</th>\n",
              "    </tr>\n",
              "  </thead>\n",
              "  <tbody>\n",
              "    <tr>\n",
              "      <th>0</th>\n",
              "      <td>Vừa ăn xong , đây là nhận_xét của mình .\\n Nhâ...</td>\n",
              "      <td>0</td>\n",
              "      <td>vừa ăn xong đây là nhận xét của mình nhân viên...</td>\n",
              "    </tr>\n",
              "    <tr>\n",
              "      <th>1</th>\n",
              "      <td>Bữa ghé ăn đây , thấy ăn cũng được xà_lách trộ...</td>\n",
              "      <td>0</td>\n",
              "      <td>bữa ghé ăn đây thấy ăn cũng được xà lách trộn ...</td>\n",
              "    </tr>\n",
              "    <tr>\n",
              "      <th>2</th>\n",
              "      <td>Thấy quán đông hiếu_kì nên ghé thử . Ăn xong r...</td>\n",
              "      <td>0</td>\n",
              "      <td>thấy quán đông hiếu kì nên ghé thử ăn xong rồi...</td>\n",
              "    </tr>\n",
              "    <tr>\n",
              "      <th>3</th>\n",
              "      <td>Bánh hong ngon như mong_đợi . Thấy cmt trên fo...</td>\n",
              "      <td>0</td>\n",
              "      <td>bánh hong ngon như mong đợi thấy cmt trên food...</td>\n",
              "    </tr>\n",
              "    <tr>\n",
              "      <th>4</th>\n",
              "      <td>Tuy hơi khó tìm ra địa_chỉ , nhưng nem ở đây k...</td>\n",
              "      <td>0</td>\n",
              "      <td>tuy hơi khó tìm ra địa chỉ nhưng nem ở đây khá...</td>\n",
              "    </tr>\n",
              "    <tr>\n",
              "      <th>...</th>\n",
              "      <td>...</td>\n",
              "      <td>...</td>\n",
              "      <td>...</td>\n",
              "    </tr>\n",
              "    <tr>\n",
              "      <th>9995</th>\n",
              "      <td>Trà sữa ở đây thơm mùi trà và béo vị sữa . The...</td>\n",
              "      <td>1</td>\n",
              "      <td>trà sữa ở đây thơm mùi trà và béo vị sữa theo ...</td>\n",
              "    </tr>\n",
              "    <tr>\n",
              "      <th>9996</th>\n",
              "      <td>Không_gian quán ấm_áp thích lắm ý : ) ) ) nhân...</td>\n",
              "      <td>1</td>\n",
              "      <td>không gian quán ấm áp thích lắm ý nhân viên lẫ...</td>\n",
              "    </tr>\n",
              "    <tr>\n",
              "      <th>9997</th>\n",
              "      <td>Không_gian đẹp , sang_trọng . Chị mình chuẩn_b...</td>\n",
              "      <td>1</td>\n",
              "      <td>không gian đẹp sang trọng chị mình chuẩn bị tổ...</td>\n",
              "    </tr>\n",
              "    <tr>\n",
              "      <th>9998</th>\n",
              "      <td>Really_Nice_Place to get a good meal for a ver...</td>\n",
              "      <td>1</td>\n",
              "      <td>really nice place to get a good meal for a ver...</td>\n",
              "    </tr>\n",
              "    <tr>\n",
              "      <th>9999</th>\n",
              "      <td>Thẻ vip của Sam.đã rẻ mà_còn giảm nữa mình thí...</td>\n",
              "      <td>1</td>\n",
              "      <td>thẻ vip của sam đã rẻ mà còn giảm nữa mình thí...</td>\n",
              "    </tr>\n",
              "  </tbody>\n",
              "</table>\n",
              "<p>10000 rows × 3 columns</p>\n",
              "</div>\n",
              "    <div class=\"colab-df-buttons\">\n",
              "\n",
              "  <div class=\"colab-df-container\">\n",
              "    <button class=\"colab-df-convert\" onclick=\"convertToInteractive('df-51b870f2-d79a-4de5-a6b2-a6bb60eb53e4')\"\n",
              "            title=\"Convert this dataframe to an interactive table.\"\n",
              "            style=\"display:none;\">\n",
              "\n",
              "  <svg xmlns=\"http://www.w3.org/2000/svg\" height=\"24px\" viewBox=\"0 -960 960 960\">\n",
              "    <path d=\"M120-120v-720h720v720H120Zm60-500h600v-160H180v160Zm220 220h160v-160H400v160Zm0 220h160v-160H400v160ZM180-400h160v-160H180v160Zm440 0h160v-160H620v160ZM180-180h160v-160H180v160Zm440 0h160v-160H620v160Z\"/>\n",
              "  </svg>\n",
              "    </button>\n",
              "\n",
              "  <style>\n",
              "    .colab-df-container {\n",
              "      display:flex;\n",
              "      gap: 12px;\n",
              "    }\n",
              "\n",
              "    .colab-df-convert {\n",
              "      background-color: #E8F0FE;\n",
              "      border: none;\n",
              "      border-radius: 50%;\n",
              "      cursor: pointer;\n",
              "      display: none;\n",
              "      fill: #1967D2;\n",
              "      height: 32px;\n",
              "      padding: 0 0 0 0;\n",
              "      width: 32px;\n",
              "    }\n",
              "\n",
              "    .colab-df-convert:hover {\n",
              "      background-color: #E2EBFA;\n",
              "      box-shadow: 0px 1px 2px rgba(60, 64, 67, 0.3), 0px 1px 3px 1px rgba(60, 64, 67, 0.15);\n",
              "      fill: #174EA6;\n",
              "    }\n",
              "\n",
              "    .colab-df-buttons div {\n",
              "      margin-bottom: 4px;\n",
              "    }\n",
              "\n",
              "    [theme=dark] .colab-df-convert {\n",
              "      background-color: #3B4455;\n",
              "      fill: #D2E3FC;\n",
              "    }\n",
              "\n",
              "    [theme=dark] .colab-df-convert:hover {\n",
              "      background-color: #434B5C;\n",
              "      box-shadow: 0px 1px 3px 1px rgba(0, 0, 0, 0.15);\n",
              "      filter: drop-shadow(0px 1px 2px rgba(0, 0, 0, 0.3));\n",
              "      fill: #FFFFFF;\n",
              "    }\n",
              "  </style>\n",
              "\n",
              "    <script>\n",
              "      const buttonEl =\n",
              "        document.querySelector('#df-51b870f2-d79a-4de5-a6b2-a6bb60eb53e4 button.colab-df-convert');\n",
              "      buttonEl.style.display =\n",
              "        google.colab.kernel.accessAllowed ? 'block' : 'none';\n",
              "\n",
              "      async function convertToInteractive(key) {\n",
              "        const element = document.querySelector('#df-51b870f2-d79a-4de5-a6b2-a6bb60eb53e4');\n",
              "        const dataTable =\n",
              "          await google.colab.kernel.invokeFunction('convertToInteractive',\n",
              "                                                    [key], {});\n",
              "        if (!dataTable) return;\n",
              "\n",
              "        const docLinkHtml = 'Like what you see? Visit the ' +\n",
              "          '<a target=\"_blank\" href=https://colab.research.google.com/notebooks/data_table.ipynb>data table notebook</a>'\n",
              "          + ' to learn more about interactive tables.';\n",
              "        element.innerHTML = '';\n",
              "        dataTable['output_type'] = 'display_data';\n",
              "        await google.colab.output.renderOutput(dataTable, element);\n",
              "        const docLink = document.createElement('div');\n",
              "        docLink.innerHTML = docLinkHtml;\n",
              "        element.appendChild(docLink);\n",
              "      }\n",
              "    </script>\n",
              "  </div>\n",
              "\n",
              "\n",
              "<div id=\"df-fec23fa1-0eb0-4bf2-97df-13614f73c70e\">\n",
              "  <button class=\"colab-df-quickchart\" onclick=\"quickchart('df-fec23fa1-0eb0-4bf2-97df-13614f73c70e')\"\n",
              "            title=\"Suggest charts.\"\n",
              "            style=\"display:none;\">\n",
              "\n",
              "<svg xmlns=\"http://www.w3.org/2000/svg\" height=\"24px\"viewBox=\"0 0 24 24\"\n",
              "     width=\"24px\">\n",
              "    <g>\n",
              "        <path d=\"M19 3H5c-1.1 0-2 .9-2 2v14c0 1.1.9 2 2 2h14c1.1 0 2-.9 2-2V5c0-1.1-.9-2-2-2zM9 17H7v-7h2v7zm4 0h-2V7h2v10zm4 0h-2v-4h2v4z\"/>\n",
              "    </g>\n",
              "</svg>\n",
              "  </button>\n",
              "\n",
              "<style>\n",
              "  .colab-df-quickchart {\n",
              "      --bg-color: #E8F0FE;\n",
              "      --fill-color: #1967D2;\n",
              "      --hover-bg-color: #E2EBFA;\n",
              "      --hover-fill-color: #174EA6;\n",
              "      --disabled-fill-color: #AAA;\n",
              "      --disabled-bg-color: #DDD;\n",
              "  }\n",
              "\n",
              "  [theme=dark] .colab-df-quickchart {\n",
              "      --bg-color: #3B4455;\n",
              "      --fill-color: #D2E3FC;\n",
              "      --hover-bg-color: #434B5C;\n",
              "      --hover-fill-color: #FFFFFF;\n",
              "      --disabled-bg-color: #3B4455;\n",
              "      --disabled-fill-color: #666;\n",
              "  }\n",
              "\n",
              "  .colab-df-quickchart {\n",
              "    background-color: var(--bg-color);\n",
              "    border: none;\n",
              "    border-radius: 50%;\n",
              "    cursor: pointer;\n",
              "    display: none;\n",
              "    fill: var(--fill-color);\n",
              "    height: 32px;\n",
              "    padding: 0;\n",
              "    width: 32px;\n",
              "  }\n",
              "\n",
              "  .colab-df-quickchart:hover {\n",
              "    background-color: var(--hover-bg-color);\n",
              "    box-shadow: 0 1px 2px rgba(60, 64, 67, 0.3), 0 1px 3px 1px rgba(60, 64, 67, 0.15);\n",
              "    fill: var(--button-hover-fill-color);\n",
              "  }\n",
              "\n",
              "  .colab-df-quickchart-complete:disabled,\n",
              "  .colab-df-quickchart-complete:disabled:hover {\n",
              "    background-color: var(--disabled-bg-color);\n",
              "    fill: var(--disabled-fill-color);\n",
              "    box-shadow: none;\n",
              "  }\n",
              "\n",
              "  .colab-df-spinner {\n",
              "    border: 2px solid var(--fill-color);\n",
              "    border-color: transparent;\n",
              "    border-bottom-color: var(--fill-color);\n",
              "    animation:\n",
              "      spin 1s steps(1) infinite;\n",
              "  }\n",
              "\n",
              "  @keyframes spin {\n",
              "    0% {\n",
              "      border-color: transparent;\n",
              "      border-bottom-color: var(--fill-color);\n",
              "      border-left-color: var(--fill-color);\n",
              "    }\n",
              "    20% {\n",
              "      border-color: transparent;\n",
              "      border-left-color: var(--fill-color);\n",
              "      border-top-color: var(--fill-color);\n",
              "    }\n",
              "    30% {\n",
              "      border-color: transparent;\n",
              "      border-left-color: var(--fill-color);\n",
              "      border-top-color: var(--fill-color);\n",
              "      border-right-color: var(--fill-color);\n",
              "    }\n",
              "    40% {\n",
              "      border-color: transparent;\n",
              "      border-right-color: var(--fill-color);\n",
              "      border-top-color: var(--fill-color);\n",
              "    }\n",
              "    60% {\n",
              "      border-color: transparent;\n",
              "      border-right-color: var(--fill-color);\n",
              "    }\n",
              "    80% {\n",
              "      border-color: transparent;\n",
              "      border-right-color: var(--fill-color);\n",
              "      border-bottom-color: var(--fill-color);\n",
              "    }\n",
              "    90% {\n",
              "      border-color: transparent;\n",
              "      border-bottom-color: var(--fill-color);\n",
              "    }\n",
              "  }\n",
              "</style>\n",
              "\n",
              "  <script>\n",
              "    async function quickchart(key) {\n",
              "      const quickchartButtonEl =\n",
              "        document.querySelector('#' + key + ' button');\n",
              "      quickchartButtonEl.disabled = true;  // To prevent multiple clicks.\n",
              "      quickchartButtonEl.classList.add('colab-df-spinner');\n",
              "      try {\n",
              "        const charts = await google.colab.kernel.invokeFunction(\n",
              "            'suggestCharts', [key], {});\n",
              "      } catch (error) {\n",
              "        console.error('Error during call to suggestCharts:', error);\n",
              "      }\n",
              "      quickchartButtonEl.classList.remove('colab-df-spinner');\n",
              "      quickchartButtonEl.classList.add('colab-df-quickchart-complete');\n",
              "    }\n",
              "    (() => {\n",
              "      let quickchartButtonEl =\n",
              "        document.querySelector('#df-fec23fa1-0eb0-4bf2-97df-13614f73c70e button');\n",
              "      quickchartButtonEl.style.display =\n",
              "        google.colab.kernel.accessAllowed ? 'block' : 'none';\n",
              "    })();\n",
              "  </script>\n",
              "</div>\n",
              "    </div>\n",
              "  </div>\n"
            ]
          },
          "metadata": {},
          "execution_count": 17
        }
      ],
      "source": [
        "test_df"
      ]
    },
    {
      "cell_type": "markdown",
      "metadata": {
        "id": "DTCMBQYBrkrH"
      },
      "source": [
        "###**2.3. EDA**"
      ]
    },
    {
      "cell_type": "code",
      "execution_count": null,
      "metadata": {
        "id": "COQLpMherkrI",
        "outputId": "a931d19e-1021-4224-99c7-47f69424c275",
        "colab": {
          "base_uri": "https://localhost:8080/",
          "height": 430
        }
      },
      "outputs": [
        {
          "output_type": "display_data",
          "data": {
            "text/plain": [
              "<Figure size 640x480 with 1 Axes>"
            ],
            "image/png": "[encoded data removed]"
          },
          "metadata": {}
        }
      ],
      "source": [
        "import matplotlib.pyplot as plt\n",
        "\n",
        "plt.hist([len(sentence.split()) for sentence in train_df_vi['preprocess_sentence']], bins=128, range=(0, 500))\n",
        "plt.show()"
      ]
    },
    {
      "cell_type": "code",
      "execution_count": null,
      "metadata": {
        "id": "7gelwynLrkrI",
        "outputId": "302cfd5f-bee1-49be-b266-4e98b5ee105b",
        "colab": {
          "base_uri": "https://localhost:8080/"
        }
      },
      "outputs": [
        {
          "output_type": "execute_result",
          "data": {
            "text/plain": [
              "(17244, 2856797)"
            ]
          },
          "metadata": {},
          "execution_count": 19
        }
      ],
      "source": [
        "# count: words and vocabulary\n",
        "from collections import Counter\n",
        "\n",
        "words = []\n",
        "[[words.append(word) for word in sentence.split()] for sentence in train_df_vi['preprocess_sentence']]\n",
        "vocabulary = Counter(words)\n",
        "len(vocabulary), len(words)"
      ]
    },
    {
      "cell_type": "markdown",
      "metadata": {
        "id": "GTngnKOjrkrI"
      },
      "source": [
        "##**3. Text Representation**"
      ]
    },
    {
      "cell_type": "code",
      "execution_count": null,
      "metadata": {
        "id": "KLa5qvofrkrI"
      },
      "outputs": [],
      "source": [
        "!pip install -q torchtext==0.16.0"
      ]
    },
    {
      "cell_type": "code",
      "execution_count": null,
      "metadata": {
        "id": "nZ4BdhivrkrI"
      },
      "outputs": [],
      "source": [
        "def yield_tokens(sentences, tokenizer):\n",
        "    for sentence in sentences:\n",
        "        yield tokenizer(sentence)"
      ]
    },
    {
      "cell_type": "code",
      "execution_count": null,
      "metadata": {
        "id": "p1UCYZoGrkrI"
      },
      "outputs": [],
      "source": [
        "# word-based tokenizer\n",
        "from torchtext.data.utils import get_tokenizer\n",
        "\n",
        "tokenizer = get_tokenizer(\"basic_english\")"
      ]
    },
    {
      "cell_type": "code",
      "execution_count": null,
      "metadata": {
        "id": "vGFoXsI2rkrI",
        "outputId": "0b88db1f-0858-4d9a-e58b-a2f72d89b520",
        "colab": {
          "base_uri": "https://localhost:8080/"
        }
      },
      "outputs": [
        {
          "output_type": "execute_result",
          "data": {
            "text/plain": [
              "['có', 'lẽ', 'do', 'mình', 'ăn']"
            ]
          },
          "metadata": {},
          "execution_count": 23
        }
      ],
      "source": [
        "tokenizer(train_df_vi['preprocess_sentence'][0])[:5]"
      ]
    },
    {
      "cell_type": "code",
      "execution_count": null,
      "metadata": {
        "id": "u-wJZOkyrkrI"
      },
      "outputs": [],
      "source": [
        "# build vocabulary\n",
        "from torchtext.vocab import build_vocab_from_iterator\n",
        "\n",
        "vocab_size = 10000\n",
        "vocabulary = build_vocab_from_iterator(\n",
        "    yield_tokens(train_df_vi['preprocess_sentence'], tokenizer),\n",
        "    max_tokens=vocab_size,\n",
        "    specials=[\"<unk>\"]\n",
        ")\n",
        "vocabulary.set_default_index(vocabulary[\"<unk>\"])"
      ]
    },
    {
      "cell_type": "code",
      "execution_count": null,
      "metadata": {
        "id": "uuUHX2ERrkrI",
        "outputId": "4a567df9-5016-44e7-8078-48af4b1d77df",
        "colab": {
          "base_uri": "https://localhost:8080/"
        }
      },
      "outputs": [
        {
          "output_type": "execute_result",
          "data": {
            "text/plain": [
              "10000"
            ]
          },
          "metadata": {},
          "execution_count": 25
        }
      ],
      "source": [
        "len(vocabulary)"
      ]
    },
    {
      "cell_type": "code",
      "execution_count": null,
      "metadata": {
        "id": "juODl39drkrI",
        "outputId": "cdf63648-2766-4adf-800b-d66910c7ad71",
        "colab": {
          "base_uri": "https://localhost:8080/"
        }
      },
      "outputs": [
        {
          "output_type": "stream",
          "name": "stdout",
          "text": [
            "[3, 537, 198, 2, 1, 45, 555, 46, 72, 368, 946, 1125, 143, 17, 6, 35, 232, 28, 597, 5, 127, 156, 154, 34, 3, 149, 178, 5, 57, 115, 1572, 6, 357, 384, 5, 274, 68, 66, 1572, 214, 29, 190, 468, 72, 247, 7, 245, 4, 190, 468, 12, 203, 171, 745, 2357, 30, 49, 106, 3, 263, 85, 392, 16, 122, 139, 20, 270, 1572, 219, 188, 1376, 5, 3, 75, 131, 438, 1572, 0, 371, 321, 1, 27, 1572, 2907, 119, 28, 556, 634, 8, 12, 179, 126, 69, 3, 1136, 29, 268, 2267, 30, 13, 50, 257, 1572, 26, 24, 887, 5707, 176, 215, 7, 69, 330, 34, 434, 215, 699, 22, 699, 20, 33, 2, 37, 6, 107, 298, 8, 84, 2, 33, 26, 24, 83, 244, 84, 457, 403, 381, 712, 8, 601, 79, 111, 50, 1803, 2, 142, 231, 128, 20, 40, 115]\n"
          ]
        }
      ],
      "source": [
        "# encode text\n",
        "\n",
        "print(vocabulary(tokenizer(train_df_vi['preprocess_sentence'][0])))"
      ]
    },
    {
      "cell_type": "code",
      "execution_count": null,
      "metadata": {
        "id": "2mcguTvNrkrI"
      },
      "outputs": [],
      "source": [
        "from torchtext.data.functional import to_map_style_dataset\n",
        "\n",
        "def prepare_dataset(df):\n",
        "    for index, row in df.iterrows():\n",
        "        sentence = row['preprocess_sentence']\n",
        "        encoded_sentence = vocabulary(tokenizer(sentence))\n",
        "        label = row['label']\n",
        "        yield encoded_sentence, label\n",
        "\n",
        "train_dataset = prepare_dataset(train_df_vi)\n",
        "train_dataset = to_map_style_dataset(train_dataset)\n",
        "\n",
        "valid_dataset = prepare_dataset(valid_df)\n",
        "valid_dataset = to_map_style_dataset(valid_dataset)"
      ]
    },
    {
      "cell_type": "code",
      "execution_count": null,
      "metadata": {
        "id": "60vRr0MprkrI",
        "outputId": "2a976e01-c956-433e-d55c-8e24d7477dc5",
        "colab": {
          "base_uri": "https://localhost:8080/"
        }
      },
      "outputs": [
        {
          "output_type": "stream",
          "name": "stdout",
          "text": [
            "([3, 537, 198, 2, 1, 45, 555, 46, 72, 368, 946, 1125, 143, 17, 6, 35, 232, 28, 597, 5, 127, 156, 154, 34, 3, 149, 178, 5, 57, 115, 1572, 6, 357, 384, 5, 274, 68, 66, 1572, 214, 29, 190, 468, 72, 247, 7, 245, 4, 190, 468, 12, 203, 171, 745, 2357, 30, 49, 106, 3, 263, 85, 392, 16, 122, 139, 20, 270, 1572, 219, 188, 1376, 5, 3, 75, 131, 438, 1572, 0, 371, 321, 1, 27, 1572, 2907, 119, 28, 556, 634, 8, 12, 179, 126, 69, 3, 1136, 29, 268, 2267, 30, 13, 50, 257, 1572, 26, 24, 887, 5707, 176, 215, 7, 69, 330, 34, 434, 215, 699, 22, 699, 20, 33, 2, 37, 6, 107, 298, 8, 84, 2, 33, 26, 24, 83, 244, 84, 457, 403, 381, 712, 8, 601, 79, 111, 50, 1803, 2, 142, 231, 128, 20, 40, 115], 0)\n"
          ]
        }
      ],
      "source": [
        "print(next(iter(train_dataset)))"
      ]
    },
    {
      "cell_type": "code",
      "execution_count": null,
      "metadata": {
        "id": "MMKuBpU5rkrI",
        "outputId": "a838e979-5f9a-4d33-9ec2-8b8bff95fccd",
        "colab": {
          "base_uri": "https://localhost:8080/"
        }
      },
      "outputs": [
        {
          "output_type": "execute_result",
          "data": {
            "text/plain": [
              "29736"
            ]
          },
          "metadata": {},
          "execution_count": 29
        }
      ],
      "source": [
        "len(train_dataset)"
      ]
    },
    {
      "cell_type": "markdown",
      "metadata": {
        "id": "3ko0lUrdrkrI"
      },
      "source": [
        "##**4. Dataloader**"
      ]
    },
    {
      "cell_type": "code",
      "execution_count": null,
      "metadata": {
        "id": "jOW5Jb5arkrI"
      },
      "outputs": [],
      "source": [
        "import torch\n",
        "\n",
        "device = torch.device(\"cuda\" if torch.cuda.is_available() else \"cpu\")\n",
        "\n",
        "def collate_batch(batch):\n",
        "    encoded_sentences, labels, offsets = [], [], [0]\n",
        "    for encoded_sentence, label in batch:\n",
        "        labels.append(label)\n",
        "        encoded_sentence = torch.tensor(encoded_sentence, dtype=torch.int64)\n",
        "        encoded_sentences.append(encoded_sentence)\n",
        "        offsets.append(encoded_sentence.size(0))\n",
        "\n",
        "    labels = torch.tensor(labels, dtype=torch.int64)\n",
        "    offsets = torch.tensor(offsets[:-1]).cumsum(dim=0)\n",
        "    encoded_sentences = torch.cat(encoded_sentences)\n",
        "    return encoded_sentences.to(device), offsets.to(device), labels.to(device)"
      ]
    },
    {
      "cell_type": "code",
      "execution_count": null,
      "metadata": {
        "id": "cKL2q3jhrkrI"
      },
      "outputs": [],
      "source": [
        "from torch.utils.data import DataLoader\n",
        "\n",
        "batch_size = 128\n",
        "train_dataloader = DataLoader(\n",
        "    train_dataset,\n",
        "    batch_size=batch_size,\n",
        "    shuffle=True,\n",
        "    collate_fn=collate_batch\n",
        ")\n",
        "valid_dataloader = DataLoader(\n",
        "    valid_dataset,\n",
        "    batch_size=batch_size,\n",
        "    shuffle=False,\n",
        "    collate_fn=collate_batch\n",
        ")"
      ]
    },
    {
      "cell_type": "code",
      "execution_count": null,
      "metadata": {
        "id": "Ni8qkz4ZrkrI",
        "outputId": "e2dfedc6-7e49-4139-ab1d-c8099ac918d9",
        "colab": {
          "base_uri": "https://localhost:8080/"
        }
      },
      "outputs": [
        {
          "output_type": "execute_result",
          "data": {
            "text/plain": [
              "(tensor([  2, 120,  37,  ...,   4, 124, 260]),\n",
              " tensor([    0,   244,   274,   417,   482,   576,   662,   719,   761,   784,\n",
              "           831,  1019,  1074,  1243,  1288,  1331,  1344,  1360,  1416,  1440,\n",
              "          1515,  1542,  1652,  1896,  2020,  2051,  2141,  2203,  2296,  2377,\n",
              "          2430,  2486,  2584,  2752,  2804,  2946,  3039,  3059,  3086,  3120,\n",
              "          3225,  3354,  3511,  3597,  3770,  4076,  4163,  4222,  4261,  4348,\n",
              "          4368,  4456,  4504,  4557,  4672,  4775,  4921,  4956,  4998,  5234,\n",
              "          5251,  5323,  5339,  5434,  5463,  5499,  5631,  5724,  5749,  5785,\n",
              "          5815,  5852,  5883,  6034,  6233,  6256,  6330,  6373,  6572,  6655,\n",
              "          6700,  6799,  6902,  6979,  7080,  7138,  7245,  7290,  7680,  7853,\n",
              "          7899,  7925,  7965,  8084,  8156,  8295,  8339,  8415,  8556,  8714,\n",
              "          8872,  9014,  9139,  9203,  9239,  9295,  9345,  9412,  9495,  9702,\n",
              "          9733,  9790,  9953, 10043, 10467, 10527, 10639, 10746, 10796, 10864,\n",
              "         11015, 11096, 11194, 11239, 11406, 11498, 11564, 11594]),\n",
              " tensor([0, 0, 1, 0, 1, 0, 0, 1, 0, 0, 0, 0, 0, 1, 1, 1, 0, 0, 0, 1, 0, 0, 0, 0,\n",
              "         1, 0, 1, 1, 1, 0, 0, 1, 0, 1, 1, 0, 1, 1, 1, 0, 0, 0, 0, 1, 1, 1, 0, 1,\n",
              "         1, 0, 1, 0, 1, 1, 0, 0, 1, 1, 0, 0, 1, 0, 0, 1, 1, 1, 0, 0, 0, 1, 1, 1,\n",
              "         1, 1, 1, 0, 0, 0, 0, 0, 0, 1, 1, 1, 0, 0, 0, 1, 1, 1, 0, 0, 1, 0, 1, 1,\n",
              "         1, 1, 0, 1, 0, 0, 0, 1, 1, 0, 0, 0, 0, 0, 1, 1, 1, 1, 1, 1, 0, 1, 0, 0,\n",
              "         1, 0, 1, 1, 0, 1, 0, 1]))"
            ]
          },
          "metadata": {},
          "execution_count": 32
        }
      ],
      "source": [
        "next(iter(train_dataloader))"
      ]
    },
    {
      "cell_type": "code",
      "execution_count": null,
      "metadata": {
        "id": "fZZSwzRdrkrM"
      },
      "outputs": [],
      "source": [
        "encoded_sentences, offsets, labels = next(iter(train_dataloader))"
      ]
    },
    {
      "cell_type": "code",
      "execution_count": null,
      "metadata": {
        "id": "XjwdFHzirkrM",
        "outputId": "13147d3e-97f7-4c7b-cb2c-86d9733c4e79",
        "colab": {
          "base_uri": "https://localhost:8080/"
        }
      },
      "outputs": [
        {
          "output_type": "execute_result",
          "data": {
            "text/plain": [
              "torch.Size([11104])"
            ]
          },
          "metadata": {},
          "execution_count": 34
        }
      ],
      "source": [
        "encoded_sentences.shape"
      ]
    },
    {
      "cell_type": "markdown",
      "metadata": {
        "id": "hWRRzmcsrkrM"
      },
      "source": [
        "##**4. Model**"
      ]
    },
    {
      "cell_type": "markdown",
      "source": [
        "**Embedding**"
      ],
      "metadata": {
        "id": "-cdw4BpxubgL"
      }
    },
    {
      "cell_type": "code",
      "source": [
        "from torch import nn\n",
        "\n",
        "class TextClassificationModel(nn.Module):\n",
        "    def __init__(self, vocab_size, embed_dim, num_class, seq_len):\n",
        "        super(TextClassificationModel, self).__init__()\n",
        "        self.embedding = nn.Embedding(vocab_size, embed_dim)\n",
        "        self.ft = nn.Flatten()\n",
        "        self.fc = nn.Linear(seq_len*embed_dim, num_class)\n",
        "        self.init_weights()\n",
        "\n",
        "    def init_weights(self):\n",
        "        initrange = 0.5\n",
        "        self.embedding.weight.data.uniform_(-initrange, initrange)\n",
        "        self.fc.weight.data.uniform_(-initrange, initrange)\n",
        "        self.fc.bias.data.zero_()\n",
        "\n",
        "    def forward(self, inputs):\n",
        "        embedded = self.embedding(inputs)\n",
        "        ouput = self.ft(embedded)\n",
        "        return self.fc(ouput)"
      ],
      "metadata": {
        "id": "BAdJN-qNs4my"
      },
      "execution_count": null,
      "outputs": []
    },
    {
      "cell_type": "code",
      "source": [
        "batch_size = 5\n",
        "seq_len = 10\n",
        "input = torch.ones([batch_size, seq_len], dtype=torch.int32)\n",
        "input"
      ],
      "metadata": {
        "colab": {
          "base_uri": "https://localhost:8080/"
        },
        "id": "sUXrU8r1tbaF",
        "outputId": "d4ff0af8-0863-45cf-ff31-29e6d14d4e94"
      },
      "execution_count": null,
      "outputs": [
        {
          "output_type": "execute_result",
          "data": {
            "text/plain": [
              "tensor([[1, 1, 1, 1, 1, 1, 1, 1, 1, 1],\n",
              "        [1, 1, 1, 1, 1, 1, 1, 1, 1, 1],\n",
              "        [1, 1, 1, 1, 1, 1, 1, 1, 1, 1],\n",
              "        [1, 1, 1, 1, 1, 1, 1, 1, 1, 1],\n",
              "        [1, 1, 1, 1, 1, 1, 1, 1, 1, 1]], dtype=torch.int32)"
            ]
          },
          "metadata": {},
          "execution_count": 36
        }
      ]
    },
    {
      "cell_type": "code",
      "source": [
        "num_class = 2\n",
        "vocab_size = 5000\n",
        "embed_dim = 100\n",
        "model = TextClassificationModel(vocab_size, embed_dim, num_class, seq_len)"
      ],
      "metadata": {
        "id": "iVj8TDKetVYP"
      },
      "execution_count": null,
      "outputs": []
    },
    {
      "cell_type": "code",
      "source": [
        "model"
      ],
      "metadata": {
        "colab": {
          "base_uri": "https://localhost:8080/"
        },
        "id": "iBcAy0sPtZtY",
        "outputId": "93503e72-66d2-48ba-a38a-2ec746c21036"
      },
      "execution_count": null,
      "outputs": [
        {
          "output_type": "execute_result",
          "data": {
            "text/plain": [
              "TextClassificationModel(\n",
              "  (embedding): Embedding(5000, 100)\n",
              "  (ft): Flatten(start_dim=1, end_dim=-1)\n",
              "  (fc): Linear(in_features=1000, out_features=2, bias=True)\n",
              ")"
            ]
          },
          "metadata": {},
          "execution_count": 38
        }
      ]
    },
    {
      "cell_type": "code",
      "source": [
        "predictions = model(input)\n",
        "predictions"
      ],
      "metadata": {
        "colab": {
          "base_uri": "https://localhost:8080/"
        },
        "id": "VXi-FvjqtudC",
        "outputId": "044a501a-0ce6-4dd7-aef3-211325afea3e"
      },
      "execution_count": null,
      "outputs": [
        {
          "output_type": "execute_result",
          "data": {
            "text/plain": [
              "tensor([[-0.0517,  1.9232],\n",
              "        [-0.0517,  1.9232],\n",
              "        [-0.0517,  1.9232],\n",
              "        [-0.0517,  1.9232],\n",
              "        [-0.0517,  1.9232]], grad_fn=<AddmmBackward0>)"
            ]
          },
          "metadata": {},
          "execution_count": 39
        }
      ]
    },
    {
      "cell_type": "markdown",
      "source": [
        "**EmbeddingBag**"
      ],
      "metadata": {
        "id": "-CO2WbmIuhvi"
      }
    },
    {
      "cell_type": "code",
      "execution_count": null,
      "metadata": {
        "id": "-MzIQJHHrkrM"
      },
      "outputs": [],
      "source": [
        "from torch import nn\n",
        "\n",
        "class TextClassificationModel(nn.Module):\n",
        "    def __init__(self, vocab_size, embed_dim, num_class):\n",
        "        super(TextClassificationModel, self).__init__()\n",
        "        self.embedding = nn.EmbeddingBag(vocab_size, embed_dim, sparse=False)\n",
        "        self.fc = nn.Linear(embed_dim, num_class)\n",
        "        self.init_weights()\n",
        "\n",
        "    def init_weights(self):\n",
        "        initrange = 0.5\n",
        "        self.embedding.weight.data.uniform_(-initrange, initrange)\n",
        "        self.fc.weight.data.uniform_(-initrange, initrange)\n",
        "        self.fc.bias.data.zero_()\n",
        "\n",
        "    def forward(self, inputs, offsets):\n",
        "        embedded = self.embedding(inputs, offsets)\n",
        "        return self.fc(embedded)"
      ]
    },
    {
      "cell_type": "code",
      "execution_count": null,
      "metadata": {
        "id": "QCeXbqv_rkrM"
      },
      "outputs": [],
      "source": [
        "num_class = len(set(train_df_vi['label']))\n",
        "vocab_size = len(vocabulary)\n",
        "embed_dim = 100\n",
        "model = TextClassificationModel(vocab_size, embed_dim, num_class).to(device)"
      ]
    },
    {
      "cell_type": "code",
      "execution_count": null,
      "metadata": {
        "id": "hBQz8qHrrkrM",
        "colab": {
          "base_uri": "https://localhost:8080/"
        },
        "outputId": "7a3c276e-f0ff-4eff-9b90-2a6147c55e3f"
      },
      "outputs": [
        {
          "output_type": "execute_result",
          "data": {
            "text/plain": [
              "TextClassificationModel(\n",
              "  (embedding): EmbeddingBag(10000, 100, mode='mean')\n",
              "  (fc): Linear(in_features=100, out_features=2, bias=True)\n",
              ")"
            ]
          },
          "metadata": {},
          "execution_count": 37
        }
      ],
      "source": [
        "model"
      ]
    },
    {
      "cell_type": "code",
      "execution_count": null,
      "metadata": {
        "id": "9-7uJ-BPrkrM"
      },
      "outputs": [],
      "source": [
        "predictions = model(encoded_sentences, offsets)"
      ]
    },
    {
      "cell_type": "code",
      "execution_count": null,
      "metadata": {
        "id": "0RtSETL2rkrM",
        "outputId": "d2f0893f-9651-46b5-aa9a-57e97053c329",
        "colab": {
          "base_uri": "https://localhost:8080/"
        }
      },
      "outputs": [
        {
          "output_type": "execute_result",
          "data": {
            "text/plain": [
              "tensor([[ 8.0906e-02, -3.3078e-02],\n",
              "        [ 7.5216e-02,  7.6704e-02],\n",
              "        [ 1.0847e-01,  7.2861e-02],\n",
              "        [-5.0523e-02,  5.2166e-02],\n",
              "        [-1.3333e-02,  2.1172e-01],\n",
              "        [-6.4176e-02,  9.2925e-02],\n",
              "        [ 2.7008e-02,  1.3824e-01],\n",
              "        [ 3.9476e-03,  6.2918e-02],\n",
              "        [ 1.0791e-01,  2.3957e-02],\n",
              "        [-1.6590e-01,  1.9178e-01],\n",
              "        [ 1.5202e-01,  2.1842e-02],\n",
              "        [ 3.2284e-03,  9.8168e-02],\n",
              "        [ 2.2878e-02, -1.2369e-02],\n",
              "        [-1.3142e-01,  9.3623e-02],\n",
              "        [-2.0478e-01, -5.1081e-02],\n",
              "        [-4.8734e-02,  1.7202e-02],\n",
              "        [-2.9863e-02, -9.4589e-02],\n",
              "        [-5.9666e-02,  1.2654e-01],\n",
              "        [ 3.3456e-02,  2.5928e-01],\n",
              "        [ 7.4628e-02,  1.3054e-01],\n",
              "        [ 5.9113e-02, -6.3100e-02],\n",
              "        [-3.3394e-02,  2.3732e-01],\n",
              "        [-1.0687e-01,  4.7350e-02],\n",
              "        [-6.4027e-02,  3.6666e-02],\n",
              "        [-3.6169e-02,  8.0496e-02],\n",
              "        [ 1.9498e-01,  1.2428e-01],\n",
              "        [ 1.0739e-02,  3.5665e-02],\n",
              "        [-4.7932e-02, -2.8038e-02],\n",
              "        [-4.7511e-03, -1.3172e-01],\n",
              "        [ 1.2511e-01,  3.3758e-02],\n",
              "        [-1.1098e-01,  7.2654e-02],\n",
              "        [-6.5250e-02,  5.3285e-02],\n",
              "        [-3.0475e-02, -9.9822e-02],\n",
              "        [-9.4927e-02,  7.5001e-02],\n",
              "        [ 1.7161e-01, -7.7717e-05],\n",
              "        [ 2.2301e-01, -1.1789e-01],\n",
              "        [-9.8746e-02,  9.0940e-02],\n",
              "        [-2.2116e-02,  2.9512e-01],\n",
              "        [ 5.2239e-02,  2.4628e-01],\n",
              "        [-2.4859e-01,  1.1190e-01],\n",
              "        [-1.1716e-01, -1.7038e-01],\n",
              "        [-1.5626e-01,  9.3458e-02],\n",
              "        [-8.8846e-02,  8.4604e-02],\n",
              "        [-1.2837e-01, -3.4871e-03],\n",
              "        [ 1.9039e-01, -2.1230e-01],\n",
              "        [-2.2283e-01, -2.4062e-01],\n",
              "        [-1.8745e-01,  4.1495e-02],\n",
              "        [ 3.4348e-02,  7.6794e-02],\n",
              "        [-7.9154e-03,  2.4126e-01],\n",
              "        [-3.5312e-01,  1.3008e-01],\n",
              "        [-1.0786e-01, -5.5334e-02],\n",
              "        [-7.6384e-02, -2.5591e-03],\n",
              "        [-1.4620e-01,  8.9037e-02],\n",
              "        [-1.1937e-01,  1.6932e-01],\n",
              "        [-3.1934e-01,  1.4084e-01],\n",
              "        [-1.2350e-01,  2.5679e-01],\n",
              "        [-6.9205e-02, -9.4000e-02],\n",
              "        [-1.1838e-01,  1.1728e-01],\n",
              "        [-5.4087e-02, -1.2928e-01],\n",
              "        [ 1.2128e-01, -1.4864e-02],\n",
              "        [-9.3680e-02,  1.0279e-01],\n",
              "        [-8.3119e-02,  2.3411e-02],\n",
              "        [ 5.6903e-02,  1.7902e-02],\n",
              "        [-2.0005e-01,  1.9477e-01],\n",
              "        [-1.1462e-01, -2.4449e-01],\n",
              "        [-2.1322e-02, -1.7057e-01],\n",
              "        [ 1.8965e-02, -1.3460e-01],\n",
              "        [-6.5675e-02,  1.6290e-01],\n",
              "        [-1.0375e-01,  1.1705e-01],\n",
              "        [ 1.1942e-01,  9.4430e-02],\n",
              "        [ 5.8508e-02,  1.0426e-01],\n",
              "        [-1.1951e-01,  1.1649e-01],\n",
              "        [-1.8213e-01,  9.1017e-04],\n",
              "        [ 2.0780e-03,  6.0154e-02],\n",
              "        [-4.4961e-02,  6.4593e-02],\n",
              "        [ 1.1765e-01, -1.1689e-01],\n",
              "        [-2.0950e-01,  9.4516e-02],\n",
              "        [-1.8839e-01,  4.1303e-02],\n",
              "        [-1.7859e-03,  1.4443e-01],\n",
              "        [-1.1934e-01, -1.4004e-01],\n",
              "        [-3.4442e-02,  7.9470e-04],\n",
              "        [ 2.6034e-01, -2.8812e-01],\n",
              "        [-1.2752e-02, -7.8494e-02],\n",
              "        [-1.8511e-01, -1.3913e-02],\n",
              "        [ 1.0755e-01,  2.5486e-01],\n",
              "        [ 1.1528e-01, -1.7694e-01],\n",
              "        [-6.9110e-02,  8.0348e-02],\n",
              "        [-7.6637e-02,  1.1939e-02],\n",
              "        [ 1.4069e-02,  2.1032e-01],\n",
              "        [ 1.2890e-02,  6.7848e-02],\n",
              "        [-2.9998e-02,  1.1587e-01],\n",
              "        [-9.0824e-02, -6.3265e-02],\n",
              "        [-5.2401e-02,  8.0074e-02],\n",
              "        [ 7.9143e-02,  3.3082e-02],\n",
              "        [-9.2305e-02,  4.7321e-02],\n",
              "        [ 7.7829e-02,  3.7093e-02],\n",
              "        [-1.6728e-01,  2.5653e-01],\n",
              "        [-3.0810e-01,  2.9068e-02],\n",
              "        [ 8.9414e-03, -7.6315e-02],\n",
              "        [ 1.5110e-01, -5.7472e-03],\n",
              "        [ 1.4996e-01,  1.2015e-01],\n",
              "        [-4.7386e-02,  1.2167e-02],\n",
              "        [ 3.8622e-04, -3.3979e-02],\n",
              "        [-4.2770e-02,  1.1395e-01],\n",
              "        [ 1.7293e-01,  8.9961e-03],\n",
              "        [-6.5571e-02,  1.4692e-01],\n",
              "        [-8.2304e-02,  5.8954e-02],\n",
              "        [-2.0641e-02,  1.3190e-01],\n",
              "        [-6.6008e-02,  1.5276e-01],\n",
              "        [ 8.3905e-02, -2.7953e-01],\n",
              "        [ 1.8189e-01,  2.4923e-02],\n",
              "        [-8.1431e-02, -1.4561e-01],\n",
              "        [-1.4098e-02, -2.1963e-02],\n",
              "        [-8.7959e-02,  1.2822e-01],\n",
              "        [ 2.0665e-03, -2.7879e-02],\n",
              "        [-2.3375e-02,  1.5114e-01],\n",
              "        [-5.2186e-03,  1.9933e-01],\n",
              "        [ 1.3508e-01, -6.4460e-02],\n",
              "        [ 1.0121e-01,  2.2502e-01],\n",
              "        [-1.1810e-01,  1.0360e-01],\n",
              "        [-3.7031e-02, -3.1183e-01],\n",
              "        [-9.9459e-02,  4.0807e-03],\n",
              "        [-5.7553e-03,  9.1639e-02],\n",
              "        [-1.4863e-01,  1.1085e-01],\n",
              "        [ 1.0321e-01, -5.9577e-02],\n",
              "        [-1.6304e-01,  7.2559e-02],\n",
              "        [-2.1124e-01,  1.7963e-02],\n",
              "        [-4.1897e-01,  1.3344e-01]], grad_fn=<AddmmBackward0>)"
            ]
          },
          "metadata": {},
          "execution_count": 39
        }
      ],
      "source": [
        "predictions"
      ]
    },
    {
      "cell_type": "code",
      "execution_count": null,
      "metadata": {
        "id": "PqmzZd4LrkrM"
      },
      "outputs": [],
      "source": [
        "learning_rate = 2e-5\n",
        "\n",
        "criterion = torch.nn.CrossEntropyLoss()\n",
        "optimizer = torch.optim.SGD(model.parameters(), lr=learning_rate)"
      ]
    },
    {
      "cell_type": "code",
      "execution_count": null,
      "metadata": {
        "id": "N35e3MAbrkrN"
      },
      "outputs": [],
      "source": [
        "loss = criterion(predictions, labels)"
      ]
    },
    {
      "cell_type": "code",
      "execution_count": null,
      "metadata": {
        "id": "o5H5qOf4rkrN",
        "outputId": "88c9251d-1aae-48df-de42-d0b1bc41339e"
      },
      "outputs": [
        {
          "data": {
            "text/plain": [
              "tensor(0.6952, device='cuda:0', grad_fn=<NllLossBackward0>)"
            ]
          },
          "execution_count": 272,
          "metadata": {},
          "output_type": "execute_result"
        }
      ],
      "source": [
        "loss"
      ]
    },
    {
      "cell_type": "markdown",
      "metadata": {
        "id": "2xk3-L3vrkrN"
      },
      "source": [
        "##**5. Trainer**"
      ]
    },
    {
      "cell_type": "code",
      "execution_count": null,
      "metadata": {
        "id": "_w8deMpMrkrN"
      },
      "outputs": [],
      "source": [
        "import time\n",
        "\n",
        "def train(model, optimizer, criterion, train_dataloader, epoch=0, log_interval=50):\n",
        "    model.train()\n",
        "    total_acc, total_count = 0, 0\n",
        "    losses = []\n",
        "    start_time = time.time()\n",
        "\n",
        "    for idx, (inputs, offsets, labels) in enumerate(train_dataloader):\n",
        "        optimizer.zero_grad()\n",
        "        predictions = model(inputs, offsets)\n",
        "\n",
        "        # compute loss\n",
        "        loss = criterion(predictions, labels)\n",
        "        losses.append(loss.item())\n",
        "\n",
        "        # backward\n",
        "        loss.backward()\n",
        "        torch.nn.utils.clip_grad_norm_(model.parameters(), 0.1)\n",
        "        optimizer.step()\n",
        "        total_acc += (predictions.argmax(1) == labels).sum().item()\n",
        "        total_count += labels.size(0)\n",
        "        if idx % log_interval == 0 and idx > 0:\n",
        "            elapsed = time.time() - start_time\n",
        "            print(\n",
        "                \"| epoch {:3d} | {:5d}/{:5d} batches \"\n",
        "                \"| accuracy {:8.3f}\".format(\n",
        "                    epoch, idx, len(train_dataloader), total_acc / total_count\n",
        "                )\n",
        "            )\n",
        "            total_acc, total_count = 0, 0\n",
        "            start_time = time.time()\n",
        "\n",
        "    epoch_acc = total_acc / total_count\n",
        "    epoch_loss = sum(losses) / len(losses)\n",
        "    return epoch_acc, epoch_loss"
      ]
    },
    {
      "cell_type": "code",
      "execution_count": null,
      "metadata": {
        "id": "oYfPqPCHrkrN",
        "outputId": "df3a401b-3ff2-4c59-88a9-420ecf0a9278"
      },
      "outputs": [
        {
          "name": "stdout",
          "output_type": "stream",
          "text": [
            "| epoch   0 |    25/  233 batches | accuracy    0.586\n",
            "| epoch   0 |    50/  233 batches | accuracy    0.568\n",
            "| epoch   0 |    75/  233 batches | accuracy    0.569\n",
            "| epoch   0 |   100/  233 batches | accuracy    0.570\n",
            "| epoch   0 |   125/  233 batches | accuracy    0.560\n",
            "| epoch   0 |   150/  233 batches | accuracy    0.566\n",
            "| epoch   0 |   175/  233 batches | accuracy    0.576\n",
            "| epoch   0 |   200/  233 batches | accuracy    0.579\n",
            "| epoch   0 |   225/  233 batches | accuracy    0.574\n"
          ]
        }
      ],
      "source": [
        "epoch_acc, epoch_loss = train(model, optimizer, criterion, train_dataloader)"
      ]
    },
    {
      "cell_type": "code",
      "execution_count": null,
      "metadata": {
        "id": "a9X0KkvbrkrN",
        "outputId": "db873b22-a20e-4983-c0fa-7260197193cb"
      },
      "outputs": [
        {
          "data": {
            "text/plain": [
              "(0.5955334987593052, 0.6800058698961151)"
            ]
          },
          "execution_count": 292,
          "metadata": {},
          "output_type": "execute_result"
        }
      ],
      "source": [
        "epoch_acc, epoch_loss"
      ]
    },
    {
      "cell_type": "code",
      "execution_count": null,
      "metadata": {
        "id": "hnzySNicrkrN"
      },
      "outputs": [],
      "source": [
        "def evaluate(model, criterion, valid_dataloader):\n",
        "    model.eval()\n",
        "    total_acc, total_count = 0, 0\n",
        "    losses = []\n",
        "\n",
        "    with torch.no_grad():\n",
        "        for idx, (inputs, offsets, labels) in enumerate(valid_dataloader):\n",
        "            predictions = model(inputs, offsets)\n",
        "            loss = criterion(predictions, labels)\n",
        "            losses.append(loss)\n",
        "            total_acc += (predictions.argmax(1) == labels).sum().item()\n",
        "            total_count += labels.size(0)\n",
        "\n",
        "    epoch_acc = total_acc / total_count\n",
        "    epoch_loss = sum(losses) / len(losses)\n",
        "    return epoch_acc, epoch_loss"
      ]
    },
    {
      "cell_type": "code",
      "execution_count": null,
      "metadata": {
        "id": "8SrvGy7IrkrN"
      },
      "outputs": [],
      "source": [
        "eval_acc, eval_loss = evaluate(model, criterion, valid_dataloader)"
      ]
    },
    {
      "cell_type": "code",
      "execution_count": null,
      "metadata": {
        "id": "uXhewV1WrkrN",
        "outputId": "46851bf5-d939-4a2f-81a0-0117f5bde952"
      },
      "outputs": [
        {
          "data": {
            "text/plain": [
              "(0.5742, tensor(0.6811, device='cuda:0'))"
            ]
          },
          "execution_count": 291,
          "metadata": {},
          "output_type": "execute_result"
        }
      ],
      "source": [
        "eval_acc, eval_loss"
      ]
    },
    {
      "cell_type": "markdown",
      "metadata": {
        "id": "Gn8cMmQwrkrN"
      },
      "source": [
        "##**6. Training**"
      ]
    },
    {
      "cell_type": "code",
      "execution_count": null,
      "metadata": {
        "id": "6wiGb67FrkrN",
        "outputId": "e7e25301-b9b8-43f1-fc16-55ba3dfc463f",
        "colab": {
          "base_uri": "https://localhost:8080/"
        }
      },
      "outputs": [
        {
          "output_type": "stream",
          "name": "stdout",
          "text": [
            "| epoch   1 |    50/  233 batches | accuracy    0.671\n",
            "| epoch   1 |   100/  233 batches | accuracy    0.806\n",
            "| epoch   1 |   150/  233 batches | accuracy    0.829\n",
            "| epoch   1 |   200/  233 batches | accuracy    0.837\n",
            "-----------------------------------------------------------\n",
            "| End of epoch   1 | Time:  2.36s | Train Accuracy    0.853 | Train Loss    0.458 | Valid Accuracy    0.837 | Valid Loss    0.392 \n",
            "-----------------------------------------------------------\n",
            "| epoch   2 |    50/  233 batches | accuracy    0.853\n",
            "| epoch   2 |   100/  233 batches | accuracy    0.858\n",
            "| epoch   2 |   150/  233 batches | accuracy    0.862\n",
            "| epoch   2 |   200/  233 batches | accuracy    0.867\n",
            "-----------------------------------------------------------\n",
            "| End of epoch   2 | Time:  2.39s | Train Accuracy    0.863 | Train Loss    0.358 | Valid Accuracy    0.843 | Valid Loss    0.378 \n",
            "-----------------------------------------------------------\n",
            "| epoch   3 |    50/  233 batches | accuracy    0.865\n",
            "| epoch   3 |   100/  233 batches | accuracy    0.868\n",
            "| epoch   3 |   150/  233 batches | accuracy    0.873\n",
            "| epoch   3 |   200/  233 batches | accuracy    0.876\n",
            "-----------------------------------------------------------\n",
            "| End of epoch   3 | Time:  2.40s | Train Accuracy    0.868 | Train Loss    0.334 | Valid Accuracy    0.868 | Valid Loss    0.354 \n",
            "-----------------------------------------------------------\n",
            "| epoch   4 |    50/  233 batches | accuracy    0.882\n",
            "| epoch   4 |   100/  233 batches | accuracy    0.875\n",
            "| epoch   4 |   150/  233 batches | accuracy    0.885\n",
            "| epoch   4 |   200/  233 batches | accuracy    0.872\n",
            "-----------------------------------------------------------\n",
            "| End of epoch   4 | Time:  2.87s | Train Accuracy    0.876 | Train Loss    0.323 | Valid Accuracy    0.876 | Valid Loss    0.347 \n",
            "-----------------------------------------------------------\n",
            "| epoch   5 |    50/  233 batches | accuracy    0.889\n",
            "| epoch   5 |   100/  233 batches | accuracy    0.884\n",
            "| epoch   5 |   150/  233 batches | accuracy    0.882\n",
            "| epoch   5 |   200/  233 batches | accuracy    0.878\n",
            "-----------------------------------------------------------\n",
            "| End of epoch   5 | Time:  2.93s | Train Accuracy    0.880 | Train Loss    0.313 | Valid Accuracy    0.856 | Valid Loss    0.357 \n",
            "-----------------------------------------------------------\n",
            "| epoch   6 |    50/  233 batches | accuracy    0.883\n",
            "| epoch   6 |   100/  233 batches | accuracy    0.880\n",
            "| epoch   6 |   150/  233 batches | accuracy    0.886\n",
            "| epoch   6 |   200/  233 batches | accuracy    0.882\n",
            "-----------------------------------------------------------\n",
            "| End of epoch   6 | Time:  2.51s | Train Accuracy    0.890 | Train Loss    0.308 | Valid Accuracy    0.873 | Valid Loss    0.344 \n",
            "-----------------------------------------------------------\n",
            "| epoch   7 |    50/  233 batches | accuracy    0.886\n",
            "| epoch   7 |   100/  233 batches | accuracy    0.895\n",
            "| epoch   7 |   150/  233 batches | accuracy    0.886\n",
            "| epoch   7 |   200/  233 batches | accuracy    0.881\n",
            "-----------------------------------------------------------\n",
            "| End of epoch   7 | Time:  2.55s | Train Accuracy    0.877 | Train Loss    0.303 | Valid Accuracy    0.851 | Valid Loss    0.367 \n",
            "-----------------------------------------------------------\n",
            "| epoch   8 |    50/  233 batches | accuracy    0.882\n",
            "| epoch   8 |   100/  233 batches | accuracy    0.883\n",
            "| epoch   8 |   150/  233 batches | accuracy    0.886\n",
            "| epoch   8 |   200/  233 batches | accuracy    0.899\n",
            "-----------------------------------------------------------\n",
            "| End of epoch   8 | Time:  2.49s | Train Accuracy    0.883 | Train Loss    0.298 | Valid Accuracy    0.872 | Valid Loss    0.352 \n",
            "-----------------------------------------------------------\n",
            "| epoch   9 |    50/  233 batches | accuracy    0.892\n",
            "| epoch   9 |   100/  233 batches | accuracy    0.892\n",
            "| epoch   9 |   150/  233 batches | accuracy    0.891\n",
            "| epoch   9 |   200/  233 batches | accuracy    0.881\n",
            "-----------------------------------------------------------\n",
            "| End of epoch   9 | Time:  3.14s | Train Accuracy    0.888 | Train Loss    0.295 | Valid Accuracy    0.854 | Valid Loss    0.364 \n",
            "-----------------------------------------------------------\n",
            "| epoch  10 |    50/  233 batches | accuracy    0.888\n",
            "| epoch  10 |   100/  233 batches | accuracy    0.886\n",
            "| epoch  10 |   150/  233 batches | accuracy    0.887\n",
            "| epoch  10 |   200/  233 batches | accuracy    0.894\n",
            "-----------------------------------------------------------\n",
            "| End of epoch  10 | Time:  2.75s | Train Accuracy    0.893 | Train Loss    0.291 | Valid Accuracy    0.862 | Valid Loss    0.358 \n",
            "-----------------------------------------------------------\n"
          ]
        }
      ],
      "source": [
        "num_class = len(set(train_df_vi['label']))\n",
        "vocab_size = len(vocabulary)\n",
        "embed_dim = 100\n",
        "model = TextClassificationModel(vocab_size, embed_dim, num_class).to(device)\n",
        "\n",
        "learning_rate = 5\n",
        "criterion = torch.nn.CrossEntropyLoss()\n",
        "optimizer = torch.optim.SGD(model.parameters(), lr=learning_rate)\n",
        "\n",
        "num_epochs = 10\n",
        "for epoch in range(1, num_epochs+1):\n",
        "    epoch_start_time = time.time()\n",
        "    train_acc, train_loss = train(model, optimizer, criterion, train_dataloader, epoch)\n",
        "    eval_acc, eval_loss = evaluate(model, criterion, valid_dataloader)\n",
        "    print(\"-\" * 59)\n",
        "    print(\n",
        "        \"| End of epoch {:3d} | Time: {:5.2f}s | Train Accuracy {:8.3f} | Train Loss {:8.3f} \"\n",
        "        \"| Valid Accuracy {:8.3f} | Valid Loss {:8.3f} \".format(\n",
        "            epoch, time.time() - epoch_start_time, train_acc, train_loss, eval_acc, eval_loss\n",
        "        )\n",
        "    )\n",
        "    print(\"-\" * 59)"
      ]
    },
    {
      "cell_type": "markdown",
      "metadata": {
        "id": "az6L8nW_rkrN"
      },
      "source": [
        "##**7. Prediction**"
      ]
    },
    {
      "cell_type": "code",
      "execution_count": null,
      "metadata": {
        "id": "9LrFrUplrkrN"
      },
      "outputs": [],
      "source": [
        "model = model.to('cpu')"
      ]
    },
    {
      "cell_type": "code",
      "execution_count": null,
      "metadata": {
        "id": "x3A8X6bfrkrN"
      },
      "outputs": [],
      "source": [
        "def predict(text):\n",
        "    with torch.no_grad():\n",
        "        encoded = torch.tensor(vocabulary(tokenizer(text)))\n",
        "        output = model(encoded, torch.tensor([0]))\n",
        "        return output.argmax(1).item()"
      ]
    },
    {
      "cell_type": "code",
      "execution_count": null,
      "metadata": {
        "id": "sieLwBLtrkrN",
        "outputId": "e850d83a-dde0-4e6a-8d94-79375635f7ef"
      },
      "outputs": [
        {
          "data": {
            "text/plain": [
              "sentence               Tối đà lạt trời rất lạnh nên mình rất thích đi...\n",
              "label                                                                  1\n",
              "preprocess_sentence    tối đà lạt trời rất lạnh nên mình rất thích đi...\n",
              "Name: 0, dtype: object"
            ]
          },
          "execution_count": 63,
          "metadata": {},
          "output_type": "execute_result"
        }
      ],
      "source": [
        "test_df.iloc[0]"
      ]
    },
    {
      "cell_type": "code",
      "execution_count": null,
      "metadata": {
        "id": "t5fgiU4arkrO",
        "outputId": "559ece3f-ce12-4365-a25b-9452b8912c60"
      },
      "outputs": [
        {
          "data": {
            "text/plain": [
              "1"
            ]
          },
          "execution_count": 64,
          "metadata": {},
          "output_type": "execute_result"
        }
      ],
      "source": [
        "predict(test_df.iloc[0]['sentence'])"
      ]
    },
    {
      "cell_type": "code",
      "execution_count": null,
      "metadata": {
        "id": "iNLaRMtnrkrO",
        "outputId": "babfff75-bb94-4fca-9a7f-384ed1684ab7",
        "colab": {
          "base_uri": "https://localhost:8080/"
        }
      },
      "outputs": [
        {
          "output_type": "execute_result",
          "data": {
            "text/plain": [
              "tensor(0.8673)"
            ]
          },
          "metadata": {},
          "execution_count": 53
        }
      ],
      "source": [
        "# compute accuracy on test set\n",
        "\n",
        "predictions, labels = [], []\n",
        "for index, row in test_df.iterrows():\n",
        "    sentence = row['preprocess_sentence']\n",
        "    label = row['label']\n",
        "    prediction = predict(sentence)\n",
        "    predictions.append(prediction)\n",
        "    labels.append(label)\n",
        "\n",
        "sum(torch.tensor(predictions) == torch.tensor(labels))/len(labels)"
      ]
    },
    {
      "cell_type": "markdown",
      "source": [
        "##**8. Compare: BoW, TF-IDF**"
      ],
      "metadata": {
        "id": "jv7NgrpJ5N9m"
      }
    },
    {
      "cell_type": "markdown",
      "source": [
        "###**8.1. BoW**"
      ],
      "metadata": {
        "id": "Z7Yu4LaR7UrK"
      }
    },
    {
      "cell_type": "code",
      "source": [
        "import numpy as np"
      ],
      "metadata": {
        "id": "hstpLbj154hI"
      },
      "execution_count": null,
      "outputs": []
    },
    {
      "cell_type": "code",
      "source": [
        "train_labels = np.array(train_df_vi['label'].tolist())\n",
        "test_labels = np.array(test_df['label'].tolist())"
      ],
      "metadata": {
        "id": "4h6mAAFg52j2"
      },
      "execution_count": null,
      "outputs": []
    },
    {
      "cell_type": "code",
      "source": [
        "from sklearn.feature_extraction.text import CountVectorizer\n",
        "\n",
        "max_features = 10000\n",
        "vectorizer = CountVectorizer(max_features=max_features)\n",
        "\n",
        "train_sequences = vectorizer.fit_transform(train_df_vi['preprocess_sentence'])\n",
        "test_sequences = vectorizer.transform(test_df['preprocess_sentence'])\n",
        "vocab_size = len(vectorizer.vocabulary_)\n",
        "vocab_size"
      ],
      "metadata": {
        "colab": {
          "base_uri": "https://localhost:8080/"
        },
        "id": "hjIDlF505UuU",
        "outputId": "4a946797-da0a-472f-fbe6-adadf7faa447"
      },
      "execution_count": null,
      "outputs": [
        {
          "output_type": "execute_result",
          "data": {
            "text/plain": [
              "10000"
            ]
          },
          "metadata": {},
          "execution_count": 15
        }
      ]
    },
    {
      "cell_type": "code",
      "source": [
        "from sklearn.linear_model import LogisticRegression\n",
        "\n",
        "logreg = LogisticRegression()\n",
        "logreg.fit(train_sequences, train_labels)"
      ],
      "metadata": {
        "id": "y2Ced26q5lTA"
      },
      "execution_count": null,
      "outputs": []
    },
    {
      "cell_type": "code",
      "source": [
        "logreg.score(test_sequences, test_labels)"
      ],
      "metadata": {
        "id": "gzF_IBu_6tLl",
        "colab": {
          "base_uri": "https://localhost:8080/"
        },
        "outputId": "3b3f188c-ec00-451c-d947-33f630efd176"
      },
      "execution_count": null,
      "outputs": [
        {
          "output_type": "execute_result",
          "data": {
            "text/plain": [
              "0.8779"
            ]
          },
          "metadata": {},
          "execution_count": 18
        }
      ]
    },
    {
      "cell_type": "markdown",
      "source": [
        "###**8.2. TF-IDF**"
      ],
      "metadata": {
        "id": "cL16oFDP7Y6w"
      }
    },
    {
      "cell_type": "code",
      "source": [
        "from sklearn.feature_extraction.text import TfidfVectorizer\n",
        "\n",
        "max_features = 10000\n",
        "tfidf_vectorizer = TfidfVectorizer(max_features=max_features)\n",
        "\n",
        "train_sequences = tfidf_vectorizer.fit_transform(train_df_vi['preprocess_sentence'])\n",
        "test_sequences = tfidf_vectorizer.transform(test_df['preprocess_sentence'])"
      ],
      "metadata": {
        "id": "o5LTXakq7cZ0"
      },
      "execution_count": null,
      "outputs": []
    },
    {
      "cell_type": "code",
      "source": [
        "from sklearn.linear_model import LogisticRegression\n",
        "\n",
        "logreg = LogisticRegression()\n",
        "logreg.fit(train_sequences, train_labels)"
      ],
      "metadata": {
        "id": "pB4Ah2Ht8t0f",
        "colab": {
          "base_uri": "https://localhost:8080/",
          "height": 74
        },
        "outputId": "5d2102cf-6836-4cb1-efcc-71ddbd84f24f"
      },
      "execution_count": null,
      "outputs": [
        {
          "output_type": "execute_result",
          "data": {
            "text/plain": [
              "LogisticRegression()"
            ],
            "text/html": [
              "<style>#sk-container-id-2 {color: black;background-color: white;}#sk-container-id-2 pre{padding: 0;}#sk-container-id-2 div.sk-toggleable {background-color: white;}#sk-container-id-2 label.sk-toggleable__label {cursor: pointer;display: block;width: 100%;margin-bottom: 0;padding: 0.3em;box-sizing: border-box;text-align: center;}#sk-container-id-2 label.sk-toggleable__label-arrow:before {content: \"▸\";float: left;margin-right: 0.25em;color: #696969;}#sk-container-id-2 label.sk-toggleable__label-arrow:hover:before {color: black;}#sk-container-id-2 div.sk-estimator:hover label.sk-toggleable__label-arrow:before {color: black;}#sk-container-id-2 div.sk-toggleable__content {max-height: 0;max-width: 0;overflow: hidden;text-align: left;background-color: #f0f8ff;}#sk-container-id-2 div.sk-toggleable__content pre {margin: 0.2em;color: black;border-radius: 0.25em;background-color: #f0f8ff;}#sk-container-id-2 input.sk-toggleable__control:checked~div.sk-toggleable__content {max-height: 200px;max-width: 100%;overflow: auto;}#sk-container-id-2 input.sk-toggleable__control:checked~label.sk-toggleable__label-arrow:before {content: \"▾\";}#sk-container-id-2 div.sk-estimator input.sk-toggleable__control:checked~label.sk-toggleable__label {background-color: #d4ebff;}#sk-container-id-2 div.sk-label input.sk-toggleable__control:checked~label.sk-toggleable__label {background-color: #d4ebff;}#sk-container-id-2 input.sk-hidden--visually {border: 0;clip: rect(1px 1px 1px 1px);clip: rect(1px, 1px, 1px, 1px);height: 1px;margin: -1px;overflow: hidden;padding: 0;position: absolute;width: 1px;}#sk-container-id-2 div.sk-estimator {font-family: monospace;background-color: #f0f8ff;border: 1px dotted black;border-radius: 0.25em;box-sizing: border-box;margin-bottom: 0.5em;}#sk-container-id-2 div.sk-estimator:hover {background-color: #d4ebff;}#sk-container-id-2 div.sk-parallel-item::after {content: \"\";width: 100%;border-bottom: 1px solid gray;flex-grow: 1;}#sk-container-id-2 div.sk-label:hover label.sk-toggleable__label {background-color: #d4ebff;}#sk-container-id-2 div.sk-serial::before {content: \"\";position: absolute;border-left: 1px solid gray;box-sizing: border-box;top: 0;bottom: 0;left: 50%;z-index: 0;}#sk-container-id-2 div.sk-serial {display: flex;flex-direction: column;align-items: center;background-color: white;padding-right: 0.2em;padding-left: 0.2em;position: relative;}#sk-container-id-2 div.sk-item {position: relative;z-index: 1;}#sk-container-id-2 div.sk-parallel {display: flex;align-items: stretch;justify-content: center;background-color: white;position: relative;}#sk-container-id-2 div.sk-item::before, #sk-container-id-2 div.sk-parallel-item::before {content: \"\";position: absolute;border-left: 1px solid gray;box-sizing: border-box;top: 0;bottom: 0;left: 50%;z-index: -1;}#sk-container-id-2 div.sk-parallel-item {display: flex;flex-direction: column;z-index: 1;position: relative;background-color: white;}#sk-container-id-2 div.sk-parallel-item:first-child::after {align-self: flex-end;width: 50%;}#sk-container-id-2 div.sk-parallel-item:last-child::after {align-self: flex-start;width: 50%;}#sk-container-id-2 div.sk-parallel-item:only-child::after {width: 0;}#sk-container-id-2 div.sk-dashed-wrapped {border: 1px dashed gray;margin: 0 0.4em 0.5em 0.4em;box-sizing: border-box;padding-bottom: 0.4em;background-color: white;}#sk-container-id-2 div.sk-label label {font-family: monospace;font-weight: bold;display: inline-block;line-height: 1.2em;}#sk-container-id-2 div.sk-label-container {text-align: center;}#sk-container-id-2 div.sk-container {/* jupyter's `normalize.less` sets `[hidden] { display: none; }` but bootstrap.min.css set `[hidden] { display: none !important; }` so we also need the `!important` here to be able to override the default hidden behavior on the sphinx rendered scikit-learn.org. See: https://github.com/scikit-learn/scikit-learn/issues/21755 */display: inline-block !important;position: relative;}#sk-container-id-2 div.sk-text-repr-fallback {display: none;}</style><div id=\"sk-container-id-2\" class=\"sk-top-container\"><div class=\"sk-text-repr-fallback\"><pre>LogisticRegression()</pre><b>In a Jupyter environment, please rerun this cell to show the HTML representation or trust the notebook. <br />On GitHub, the HTML representation is unable to render, please try loading this page with nbviewer.org.</b></div><div class=\"sk-container\" hidden><div class=\"sk-item\"><div class=\"sk-estimator sk-toggleable\"><input class=\"sk-toggleable__control sk-hidden--visually\" id=\"sk-estimator-id-2\" type=\"checkbox\" checked><label for=\"sk-estimator-id-2\" class=\"sk-toggleable__label sk-toggleable__label-arrow\">LogisticRegression</label><div class=\"sk-toggleable__content\"><pre>LogisticRegression()</pre></div></div></div></div></div>"
            ]
          },
          "metadata": {},
          "execution_count": 20
        }
      ]
    },
    {
      "cell_type": "code",
      "source": [
        "logreg.score(test_sequences, test_labels)"
      ],
      "metadata": {
        "id": "3F5bLVb69NfT",
        "colab": {
          "base_uri": "https://localhost:8080/"
        },
        "outputId": "ee1c164d-1eb5-46bd-e1c6-cfa7f9dc101d"
      },
      "execution_count": null,
      "outputs": [
        {
          "output_type": "execute_result",
          "data": {
            "text/plain": [
              "0.8822"
            ]
          },
          "metadata": {},
          "execution_count": 22
        }
      ]
    }
  ],
  "metadata": {
    "kernelspec": {
      "display_name": "Python 3",
      "name": "python3"
    },
    "language_info": {
      "codemirror_mode": {
        "name": "ipython",
        "version": 3
      },
      "file_extension": ".py",
      "mimetype": "text/x-python",
      "name": "python",
      "nbconvert_exporter": "python",
      "pygments_lexer": "ipython3",
      "version": "3.10.0"
    },
    "colab": {
      "provenance": [],
      "toc_visible": true,
      "include_colab_link": true
    }
  },
  "nbformat": 4,
  "nbformat_minor": 0
}